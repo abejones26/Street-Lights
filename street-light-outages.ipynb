{
 "cells": [
  {
   "cell_type": "markdown",
   "metadata": {},
   "source": [
    "# Dependencies"
   ]
  },
  {
   "cell_type": "code",
   "execution_count": 3,
   "metadata": {},
   "outputs": [],
   "source": [
    "import pandas as pd\n",
    "import requests\n",
    "import json\n",
    "import numpy as np\n",
    "from Resources.config import app_token\n",
    "import matplotlib.pyplot as plt\n",
    "\n",
    "# Q-4\n",
    "import datetime as dt\n",
    "import scipy.stats as sts\n",
    "from math import isnan\n",
    "from matplotlib.animation import FuncAnimation\n",
    "from matplotlib import animation, rc\n",
    "import scipy.ndimage as ndimage"
   ]
  },
  {
   "cell_type": "markdown",
   "metadata": {},
   "source": [
    "# Import Resources"
   ]
  },
  {
   "cell_type": "code",
   "execution_count": 6,
   "metadata": {},
   "outputs": [],
   "source": [
    "# Street Light Data Source from 2014-2018\n",
    "street_light_reports = \"Service_Requests_Street_Lights.csv\" \n",
    "\n",
    "# Read Street Light Data and store into Pandas data frame, add ability to read special chrarters\n",
    "street_light_reports_pd = pd.read_csv(street_light_reports,encoding= \"ISO-8859-1\")\n",
    "\n",
    "# Community Area Names Data Source \n",
    "community_area_names = \"CommAreas_20200108.csv\" \n",
    "\n",
    "# Read Community Area Names Data and store into Pandas data frame, add ability to read special characters\n",
    "community_area_names_pd = pd.read_csv(community_area_names,encoding= \"ISO-8859-1\")\n",
    "\n",
    "\n",
    "crime=pd.read_csv('Crime_2014_2018.csv')\n",
    "comm=pd.read_csv('CommAreas_20200108.csv')\n",
    "pop=pd.read_csv('Pop-Census-Data-by-Chicago-Community-Area-2017.csv')\n",
    "street=pd.read_csv('ServiceRequests_2014_2018.csv')"
   ]
  },
  {
   "cell_type": "code",
   "execution_count": null,
   "metadata": {},
   "outputs": [],
   "source": []
  }
 ],
 "metadata": {
  "kernelspec": {
   "display_name": "Python 3",
   "language": "python",
   "name": "python3"
  },
  "language_info": {
   "codemirror_mode": {
    "name": "ipython",
    "version": 3
   },
   "file_extension": ".py",
   "mimetype": "text/x-python",
   "name": "python",
   "nbconvert_exporter": "python",
   "pygments_lexer": "ipython3",
   "version": "3.7.4"
  }
 },
 "nbformat": 4,
 "nbformat_minor": 4
}
