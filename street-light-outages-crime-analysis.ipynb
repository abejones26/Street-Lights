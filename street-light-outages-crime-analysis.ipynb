{
 "cells": [
  {
   "cell_type": "markdown",
   "metadata": {},
   "source": [
    "# Dependencies"
   ]
  },
  {
   "cell_type": "code",
   "execution_count": null,
   "metadata": {},
   "outputs": [],
   "source": [
    "import pandas as pd\n",
    "import requests\n",
    "import json\n",
    "import numpy as np\n",
    "import matplotlib.pyplot as plt\n",
    "\n",
    "import datetime as dt\n",
    "import scipy.stats as sts\n",
    "import scipy.ndimage as ndimage\n",
    "\n",
    "\n",
    "from math import isnan\n",
    "from matplotlib.animation import FuncAnimation\n",
    "from matplotlib import animation, rc\n",
    "from Resources.config import app_token"
   ]
  },
  {
   "cell_type": "markdown",
   "metadata": {},
   "source": [
    "# Additional Depedencies which requires updating your environment"
   ]
  },
  {
   "cell_type": "code",
   "execution_count": null,
   "metadata": {},
   "outputs": [],
   "source": [
    "import descartes\n",
    "import geopandas as gpd\n",
    "from geopandas import GeoDataFrame\n",
    "from shapely.geometry import Point, Polygon"
   ]
  },
  {
   "cell_type": "markdown",
   "metadata": {},
   "source": [
    "# Import Resources"
   ]
  },
  {
   "cell_type": "code",
   "execution_count": null,
   "metadata": {},
   "outputs": [],
   "source": [
    "## Source: Crimes - 2001 to present\n",
    "## https://data.cityofchicago.org/Public-Safety/Crimes-2001-to-present/ijzp-q8t2\n",
    "url_crime_data = \"https://data.cityofchicago.org/resource/ijzp-q8t2.json\"\n",
    "date_filter=\"$WHERE=DATE BETWEEN '2014-01-01' AND '2018-12-31'\"\n",
    "crime_records_limit = 1000\n",
    "## Total # 1344565\n",
    "url_crime_data_with_filter = f\"{url_crime_data}?{date_filter}&$limit={crime_records_limit}&$$app_token={app_token}\"\n",
    "crime_data_json = requests.get(url_crime_data_with_filter).json()\n",
    "## Convert to pandas DataFrame\n",
    "crime_data_df = pd.DataFrame.from_records(crime_data_json)\n",
    "## drop extra columns. Optional\n",
    "#crime_data_df = crime_data_df.drop(['x_coordinate','y_coordinate','latitude','longitude','location'],axis=1)"
   ]
  },
  {
   "cell_type": "code",
   "execution_count": null,
   "metadata": {},
   "outputs": [],
   "source": [
    "# Street Light Data Source from 2014-2018\n",
    "street_light_reports = \"Resources/Service_Requests_Street_Lights.csv\" \n",
    "\n",
    "# Read Street Light Data and store into Pandas data frame, add ability to read special chrarters\n",
    "street_light_reports_pd = pd.read_csv(street_light_reports,encoding= \"ISO-8859-1\")"
   ]
  },
  {
   "cell_type": "code",
   "execution_count": null,
   "metadata": {},
   "outputs": [],
   "source": [
    "# Community Area Names Data Source \n",
    "community_area_names = \"Resources/CommAreas_20200108.csv\" \n",
    "\n",
    "# Read Community Area Names Data and store into Pandas data frame, add ability to read special characters\n",
    "community_area_names_pd = pd.read_csv(community_area_names,encoding= \"ISO-8859-1\")"
   ]
  },
  {
   "cell_type": "code",
   "execution_count": null,
   "metadata": {},
   "outputs": [],
   "source": [
    "# Community Area Names Data Source \n",
    "pop_census_data = \"Resources/Pop-Census-Data-by-Chicago-Community-Area-2017.csv\" \n",
    "\n",
    "# Read Pop Census Data by Chicago Community and store into Pandas data frame.\n",
    "pop_census_data_pd = pd.read_csv(pop_census_data)"
   ]
  },
  {
   "cell_type": "markdown",
   "metadata": {},
   "source": [
    "# Data cleanup"
   ]
  },
  {
   "cell_type": "code",
   "execution_count": null,
   "metadata": {},
   "outputs": [],
   "source": [
    "#Data Cleanup - Rename Creation Date Column Because it Has Unnecessary Charaters in the CSV Field\n",
    "street_light_reports_pd = street_light_reports_pd.rename(columns={'ÈÀCreation Date': 'Creation Date'})\n",
    "\n",
    "# Add a Column for Year, Month, Day in Street Light Outage Data \n",
    "street_light_reports_pd['Year'] = pd.DatetimeIndex(street_light_reports_pd['Creation Date']).year\n",
    "street_light_reports_pd['Month'] = pd.DatetimeIndex(street_light_reports_pd['Creation Date']).month\n",
    "street_light_reports_pd['Day'] = pd.DatetimeIndex(street_light_reports_pd['Creation Date']).day\n",
    "\n",
    "#Filter Street Light data for everything greater than 2013 and less than 2018\n",
    "street_light_reports_pd = street_light_reports_pd.loc[(street_light_reports_pd['Year']>2013) & (street_light_reports_pd['Year']<2019)]\n",
    "street_light_reports_pd\n",
    "\n",
    "## Delete extra columns\n",
    "#del street_light_reports_pd[\"Ward\", \"Police District\"]\n",
    "street_light_reports_pd = street_light_reports_pd.drop([\"Ward\", \"Police District\"], axis=1)\n",
    "street_light_reports_pd.head()"
   ]
  },
  {
   "cell_type": "markdown",
   "metadata": {},
   "source": [
    "## Question 1 - Which Chicago neighborhoods have the most street light outages reported between 2014-2018?"
   ]
  },
  {
   "cell_type": "code",
   "execution_count": null,
   "metadata": {},
   "outputs": [],
   "source": [
    "#Create Community Area Count Variable\n",
    "community_area_counts = street_light_reports_pd.groupby([\"Community Area\"])[\"Creation Date\"].nunique()\n",
    "\n",
    "#Display Summary of Community Area Counts in Data Frame\n",
    "community_area_summary_table = pd.DataFrame({\"Total Street Light Outage Reportings\": community_area_counts})\n",
    "community_area_summary_table"
   ]
  },
  {
   "cell_type": "code",
   "execution_count": null,
   "metadata": {},
   "outputs": [],
   "source": [
    "#Display Summary of Community Area Names and Corresposonding Number in Data Frame\n",
    "community_area_names=community_area_names_pd[['COMMUNITY','AREA_NUMBE']]\n",
    "community_area_names"
   ]
  },
  {
   "cell_type": "code",
   "execution_count": null,
   "metadata": {},
   "outputs": [],
   "source": [
    "# Merge Dataframes to get Street Light Outage Reports and Community Names in One Dataframe\n",
    "community_data_merge = pd.merge(community_area_summary_table,community_area_names,left_on='Community Area', right_on='AREA_NUMBE', how=\"right\")\n",
    "\n",
    "#Sort Merged Dataframe by Highest Street Light Outages to Find Community With Highest Street Outages\n",
    "community_sort = community_data_merge.sort_values(by='Total Street Light Outage Reportings', ascending=False)\n",
    "\n",
    "# Display the Top 10 Neighborhoods With Most Street Light Outages 2014 to 2018\n",
    "community_sort.head(10)"
   ]
  },
  {
   "cell_type": "code",
   "execution_count": null,
   "metadata": {},
   "outputs": [],
   "source": [
    "#Display Bar Chart to compare community area street light outages between 2014-2018\n",
    "community_chart = community_sort.plot.bar(y='Total Street Light Outage Reportings', x='COMMUNITY', rot=90, figsize=(20,3))\n",
    "plt.savefig(\"Charts/Street_Light_Outage_by_Community\")"
   ]
  },
  {
   "cell_type": "code",
   "execution_count": null,
   "metadata": {},
   "outputs": [],
   "source": [
    "# Filter Street Light Outage Totals by Year \n",
    "year_2014 = street_light_reports_pd[street_light_reports_pd['Year']==2014]\n",
    "year_2015 = street_light_reports_pd[street_light_reports_pd['Year']==2015]\n",
    "year_2016 = street_light_reports_pd[street_light_reports_pd['Year']==2016]\n",
    "year_2017 = street_light_reports_pd[street_light_reports_pd['Year']==2017]\n",
    "year_2018 = street_light_reports_pd[street_light_reports_pd['Year']==2018]"
   ]
  },
  {
   "cell_type": "code",
   "execution_count": null,
   "metadata": {},
   "outputs": [],
   "source": [
    "#Filter Street Light Counts by 2014 \n",
    "counts_by_year_2014 = year_2014.groupby([\"Community Area\",\"Year\"])[\"Creation Date\"].nunique()\n",
    "\n",
    "#Display 2014 Summary of Street Light Outages by Year in Data Frame\n",
    "counts_by_year_2014_summary_table = pd.DataFrame({ \"# of Outages in 2014\": counts_by_year_2014})\n",
    "\n",
    "#Sort Merged Dataframe by Highest Street Light Outages to Find Community With Highest Street Outages\n",
    "community_sort_2014 = counts_by_year_2014_summary_table.sort_values(by='# of Outages in 2014', ascending=False)\n",
    "\n",
    "# Display the Top 5 Neighborhoods With Most Street Light Outages in 2014\n",
    "community_sort_2014.head(5)"
   ]
  },
  {
   "cell_type": "code",
   "execution_count": null,
   "metadata": {},
   "outputs": [],
   "source": [
    "#Filter Street Light Counts by 2015 \n",
    "counts_by_year_2015 = year_2015.groupby([\"Community Area\",\"Year\"])[\"Creation Date\"].nunique()\n",
    "\n",
    "#Display 2015 Summary of Street Light Outages by Year in Data Frame\n",
    "counts_by_year_2015_summary_table = pd.DataFrame({\"# of Outages in 2015\": counts_by_year_2015})\n",
    "\n",
    "#Sort Merged Dataframe by Highest Street Light Outages to Find Community With Highest Street Outages\n",
    "community_sort_2015 = counts_by_year_2015_summary_table.sort_values(by='# of Outages in 2015', ascending=False)\n",
    "\n",
    "# Display the Top 5 Neighborhoods With Most Street Light Outages in 2015\n",
    "community_sort_2015.head(5)"
   ]
  },
  {
   "cell_type": "code",
   "execution_count": null,
   "metadata": {},
   "outputs": [],
   "source": [
    "#Filter Street Light Counts by 2016 \n",
    "counts_by_year_2016 = year_2016.groupby([\"Community Area\",\"Year\"])[\"Creation Date\"].nunique()\n",
    "\n",
    "#Display 2014 Summary of Street Light Outages by Year in Data Frame\n",
    "counts_by_year_2016_summary_table = pd.DataFrame({\"# of Outages in 2016\": counts_by_year_2016})\n",
    "\n",
    "#Sort Merged Dataframe by Highest Street Light Outages to Find Community With Highest Street Outages\n",
    "community_sort_2016 = counts_by_year_2016_summary_table.sort_values(by='# of Outages in 2016', ascending=False)\n",
    "\n",
    "# Display the Top 5 Neighborhoods With Most Street Light Outages in 2016\n",
    "community_sort_2016.head(5)"
   ]
  },
  {
   "cell_type": "code",
   "execution_count": null,
   "metadata": {},
   "outputs": [],
   "source": [
    "#Filter Street Light Counts by 2017 \n",
    "counts_by_year_2017 = year_2017.groupby([\"Community Area\",\"Year\"])[\"Creation Date\"].nunique()\n",
    "\n",
    "#Display 2017 Summary of Street Light Outages by Year in Data Frame\n",
    "counts_by_year_2017_summary_table = pd.DataFrame({\"# of Outages in 2017\": counts_by_year_2017})\n",
    "\n",
    "#Sort Merged Dataframe by Highest Street Light Outages to Find Community With Highest Street Outages\n",
    "community_sort_2017 = counts_by_year_2017_summary_table.sort_values(by='# of Outages in 2017', ascending=False)\n",
    "\n",
    "# Display the Top 5 Neighborhoods With Most Street Light Outages in 2017\n",
    "community_sort_2017.head(5)"
   ]
  },
  {
   "cell_type": "code",
   "execution_count": null,
   "metadata": {},
   "outputs": [],
   "source": [
    "#Filter Street Light Counts by 2018\n",
    "counts_by_year_2018 = year_2018.groupby([\"Community Area\",\"Year\"])[\"Creation Date\"].nunique()\n",
    "\n",
    "#Display 2018 Summary of Street Light Outages by Year in Data Frame\n",
    "counts_by_year_2018_summary_table = pd.DataFrame({\"# of Outages in 2018\": counts_by_year_2018})\n",
    "\n",
    "#Sort Merged Dataframe by Highest Street Light Outages to Find Community With Highest Street Outages\n",
    "community_sort_2018 = counts_by_year_2018_summary_table.sort_values(by='# of Outages in 2018', ascending=False)\n",
    "\n",
    "# Display the Top 10 Neighborhoods With Most Street Light Outages in 2018\n",
    "community_sort_2018.head(5)"
   ]
  },
  {
   "cell_type": "markdown",
   "metadata": {},
   "source": [
    "## Question 2 - What address has the most street light outage reports? Which year had the most street light outage reports?"
   ]
  },
  {
   "cell_type": "code",
   "execution_count": null,
   "metadata": {},
   "outputs": [],
   "source": []
  },
  {
   "cell_type": "markdown",
   "metadata": {},
   "source": [
    "## Question 3 - Average time it takes for outages to get fixed per neighborhood?"
   ]
  },
  {
   "cell_type": "code",
   "execution_count": null,
   "metadata": {},
   "outputs": [],
   "source": []
  },
  {
   "cell_type": "markdown",
   "metadata": {},
   "source": [
    "## Question 4 - What are the crime rates/reports in neighborhoods with street light outages?"
   ]
  },
  {
   "cell_type": "code",
   "execution_count": null,
   "metadata": {},
   "outputs": [],
   "source": []
  }
 ],
 "metadata": {
  "kernelspec": {
   "display_name": "Python 3",
   "language": "python",
   "name": "python3"
  },
  "language_info": {
   "codemirror_mode": {
    "name": "ipython",
    "version": 3
   },
   "file_extension": ".py",
   "mimetype": "text/x-python",
   "name": "python",
   "nbconvert_exporter": "python",
   "pygments_lexer": "ipython3",
   "version": "3.7.4"
  }
 },
 "nbformat": 4,
 "nbformat_minor": 4
}
