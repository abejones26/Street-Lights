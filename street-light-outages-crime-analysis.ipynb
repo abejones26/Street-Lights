{
 "cells": [
  {
   "cell_type": "markdown",
   "metadata": {},
   "source": [
    "# Dependencies"
   ]
  },
  {
   "cell_type": "code",
   "execution_count": 2,
   "metadata": {},
   "outputs": [],
   "source": [
    "import pandas as pd\n",
    "import requests\n",
    "import json\n",
    "import numpy as np\n",
    "import matplotlib.pyplot as plt\n",
    "\n",
    "import datetime as dt\n",
    "import scipy.stats as sts\n",
    "import scipy.ndimage as ndimage\n",
    "\n",
    "from math import isnan\n",
    "from matplotlib.animation import FuncAnimation\n",
    "from matplotlib import animation, rc\n",
    "from Resources.config import app_token\n"
   ]
  },
  {
   "cell_type": "markdown",
   "metadata": {},
   "source": [
    "# Additional Depedencies which requires updating your environment"
   ]
  },
  {
   "cell_type": "code",
   "execution_count": null,
   "metadata": {},
   "outputs": [],
   "source": [
    "import descartes\n",
    "import geopandas as gpd\n",
    "from geopandas import GeoDataFrame\n",
    "from shapely.geometry import Point, Polygon\n",
    "%matplotlib inline"
   ]
  },
  {
   "cell_type": "markdown",
   "metadata": {},
   "source": [
    "# Import Resources"
   ]
  },
  {
   "cell_type": "code",
   "execution_count": null,
   "metadata": {},
   "outputs": [],
   "source": [
    "## Source: Crimes - 2001 to present\n",
    "## https://data.cityofchicago.org/Public-Safety/Crimes-2001-to-present/ijzp-q8t2\n",
    "url_crime_data = \"https://data.cityofchicago.org/resource/ijzp-q8t2.json\"\n",
    "date_filter=\"$WHERE=DATE BETWEEN '2014-01-01' AND '2018-12-31'\"\n",
    "crime_records_limit = 2000000\n",
    "url_crime_data_with_filter = f\"{url_crime_data}?{date_filter}&$limit={crime_records_limit}&$$app_token={app_token}\"\n",
    "crime_data_json = requests.get(url_crime_data_with_filter).json()\n",
    "crime_data_df = pd.DataFrame.from_records(crime_data_json)\n",
    "crime=crime_data_df\n",
    "\n",
    "crime = crime.rename(columns={\"date\": \"Date\"\n",
    "                           , \"primary_type\": \"Primary Type\"\n",
    "                           , \"description\": \"Description\"\n",
    "                           , \"community_area\": \"Community Area\"\n",
    "                           , \"longitude\": \"Longitude\"\n",
    "                           , \"latitude\": \"Latitude\"\n",
    "                           , \"id\": \"ID\"\n",
    "                          })\n",
    "crime['Community Area'] = pd.to_numeric(crime['Community Area'],downcast='integer')\n",
    "crime['Longitude'] = pd.to_numeric(crime['Longitude'],downcast='integer')\n",
    "crime['Latitude'] = pd.to_numeric(crime['Latitude'],downcast='integer')"
   ]
  },
  {
   "cell_type": "code",
   "execution_count": 6,
   "metadata": {},
   "outputs": [],
   "source": [
    "# Street Light Data Source from 2014-2018\n",
    "street_light_reports = \"Resources/Service_Requests_Street_Lights.csv\" \n",
    "\n",
    "# Read Street Light Data and store into Pandas data frame, add ability to read special chrarters\n",
    "street_light_reports_pd = pd.read_csv(street_light_reports,encoding= \"ISO-8859-1\")\n",
    "# street_light_reports_pd = street_light_reports_pd.rename(columns={\"ÈÀCreation Date\": \"Creation Date\"})\n",
    "                                \n",
    "street=street_light_reports_pd\n",
    "\n",
    "street = street.rename(columns={\"ÈÀCreation Date\": \"Creation Date\"\n",
    "                                ,\"Creation Date\": \"Creation Date\"\n",
    "                           , \"status\": \"Status\"\n",
    "                           , \"completion_date\": \"Completion Date\"\n",
    "                           , \"service_request_number\": \"Service Request Number\"\n",
    "                           , \"type_of_service_request\": \"Type of Service Request\"\n",
    "                           , \"community_area\": \"Community Area\"\n",
    "                                , \"longitude\": \"Longitude\"\n",
    "                                , \"latitude\": \"Latitude\"\n",
    "                          })\n",
    "\n",
    "street['Longitude'] = pd.to_numeric(street['Longitude'],downcast='integer')\n",
    "street['Latitude'] = pd.to_numeric(street['Latitude'],downcast='integer')"
   ]
  },
  {
   "cell_type": "code",
   "execution_count": 7,
   "metadata": {},
   "outputs": [],
   "source": [
    "# Community Area Names Data Source \n",
    "community_area_names = \"Resources/CommAreas_20200108.csv\" \n",
    "\n",
    "# Read Community Area Names Data and store into Pandas data frame, add ability to read special characters\n",
    "community_area_names_pd = pd.read_csv(community_area_names,encoding= \"ISO-8859-1\")\n",
    "comm=community_area_names_pd\n",
    "\n",
    "comm = comm.rename(columns={\"area_numbe\": \"AREA_NUMBE\"\n",
    "                           , \"community\": \"COMMUNITY\"\n",
    "                          })"
   ]
  },
  {
   "cell_type": "code",
   "execution_count": 8,
   "metadata": {},
   "outputs": [
    {
     "data": {
      "text/html": [
       "<div>\n",
       "<style scoped>\n",
       "    .dataframe tbody tr th:only-of-type {\n",
       "        vertical-align: middle;\n",
       "    }\n",
       "\n",
       "    .dataframe tbody tr th {\n",
       "        vertical-align: top;\n",
       "    }\n",
       "\n",
       "    .dataframe thead th {\n",
       "        text-align: right;\n",
       "    }\n",
       "</style>\n",
       "<table border=\"1\" class=\"dataframe\">\n",
       "  <thead>\n",
       "    <tr style=\"text-align: right;\">\n",
       "      <th></th>\n",
       "      <th>Total Population</th>\n",
       "      <th>Community</th>\n",
       "    </tr>\n",
       "  </thead>\n",
       "  <tbody>\n",
       "    <tr>\n",
       "      <td>0</td>\n",
       "      <td>102584</td>\n",
       "      <td>LAKE VIEW</td>\n",
       "    </tr>\n",
       "    <tr>\n",
       "      <td>1</td>\n",
       "      <td>97604</td>\n",
       "      <td>AUSTIN</td>\n",
       "    </tr>\n",
       "    <tr>\n",
       "      <td>2</td>\n",
       "      <td>96466</td>\n",
       "      <td>NEAR NORTH SIDE</td>\n",
       "    </tr>\n",
       "    <tr>\n",
       "      <td>3</td>\n",
       "      <td>84660</td>\n",
       "      <td>WEST TOWN</td>\n",
       "    </tr>\n",
       "    <tr>\n",
       "      <td>4</td>\n",
       "      <td>78037</td>\n",
       "      <td>BELMONT CRAGIN</td>\n",
       "    </tr>\n",
       "    <tr>\n",
       "      <td>...</td>\n",
       "      <td>...</td>\n",
       "      <td>...</td>\n",
       "    </tr>\n",
       "    <tr>\n",
       "      <td>72</td>\n",
       "      <td>7033</td>\n",
       "      <td>AVALON PARK</td>\n",
       "    </tr>\n",
       "    <tr>\n",
       "      <td>73</td>\n",
       "      <td>6565</td>\n",
       "      <td>RIVERDALE</td>\n",
       "    </tr>\n",
       "    <tr>\n",
       "      <td>74</td>\n",
       "      <td>5181</td>\n",
       "      <td>OAKLAND</td>\n",
       "    </tr>\n",
       "    <tr>\n",
       "      <td>75</td>\n",
       "      <td>3220</td>\n",
       "      <td>FULLER PARK</td>\n",
       "    </tr>\n",
       "    <tr>\n",
       "      <td>76</td>\n",
       "      <td>1703</td>\n",
       "      <td>BURNSIDE</td>\n",
       "    </tr>\n",
       "  </tbody>\n",
       "</table>\n",
       "<p>77 rows × 2 columns</p>\n",
       "</div>"
      ],
      "text/plain": [
       "    Total Population        Community\n",
       "0             102584        LAKE VIEW\n",
       "1              97604           AUSTIN\n",
       "2              96466  NEAR NORTH SIDE\n",
       "3              84660        WEST TOWN\n",
       "4              78037   BELMONT CRAGIN\n",
       "..               ...              ...\n",
       "72              7033      AVALON PARK\n",
       "73              6565        RIVERDALE\n",
       "74              5181          OAKLAND\n",
       "75              3220      FULLER PARK\n",
       "76              1703         BURNSIDE\n",
       "\n",
       "[77 rows x 2 columns]"
      ]
     },
     "execution_count": 8,
     "metadata": {},
     "output_type": "execute_result"
    }
   ],
   "source": [
    "# Pop Census Data Source \n",
    "pop_census_data = \"Resources/Pop-Census-Data-by-Chicago-Community-Area-2017.csv\" \n",
    "\n",
    "# Read Pop Census Data by Chicago Community and store into Pandas data frame.\n",
    "pop_census_data_pd = pd.read_csv(pop_census_data)\n",
    "pop=pop_census_data_pd\n",
    "pop['Community'] = pop['Community'].str.upper() \n",
    "pop2=pop[['Total Population','Community']]\n",
    "pop2.sort_values(by='Total Population', ascending=False)"
   ]
  },
  {
   "cell_type": "markdown",
   "metadata": {},
   "source": [
    "# Data cleanup"
   ]
  },
  {
   "cell_type": "code",
   "execution_count": null,
   "metadata": {},
   "outputs": [],
   "source": [
    "#Data Cleanup - Rename Creation Date Column Because it Has Unnecessary Charaters in the CSV Field\n",
    "street_light_reports_pd = street_light_reports_pd.rename(columns={'ÈÀCreation Date': 'Creation Date'})\n",
    "\n",
    "# Add a Column for Year, Month, Day in Street Light Outage Data \n",
    "street_light_reports_pd['Year'] = pd.DatetimeIndex(street_light_reports_pd['Creation Date']).year\n",
    "street_light_reports_pd['Month'] = pd.DatetimeIndex(street_light_reports_pd['Creation Date']).month\n",
    "street_light_reports_pd['Day'] = pd.DatetimeIndex(street_light_reports_pd['Creation Date']).day\n",
    "\n",
    "#Filter Street Light data for everything greater than 2013 and less than 2018\n",
    "street_light_reports_pd = street_light_reports_pd.loc[(street_light_reports_pd['Year']>2013) & (street_light_reports_pd['Year']<2019)]\n",
    "street_light_reports_pd\n",
    "\n",
    "## Delete extra columns\n",
    "#del street_light_reports_pd[\"Ward\", \"Police District\"]\n",
    "street_light_reports_pd = street_light_reports_pd.drop([\"Ward\", \"Police District\"], axis=1)\n",
    "street_light_reports_pd.head()"
   ]
  },
  {
   "cell_type": "markdown",
   "metadata": {},
   "source": [
    "CLEANING AND FILTERING CRIME DATA"
   ]
  },
  {
   "cell_type": "code",
   "execution_count": null,
   "metadata": {},
   "outputs": [],
   "source": [
    "#remove the records with zero as the community area\n",
    "crime=crime.loc[crime['Community Area']!=0]\n",
    "\n",
    "#creating new columns for Year, Month, and Day\n",
    "crime['Year'] = pd.DatetimeIndex(crime['Date']).year\n",
    "crime['Month'] = pd.DatetimeIndex(crime['Date']).month\n",
    "crime['Day'] = pd.DatetimeIndex(crime['Date']).day\n",
    "\n",
    "#filtering data for everything greater than 2013 and less than 2019\n",
    "crime=crime.loc[(crime['Year']>2013) & (crime['Year']<2019)]"
   ]
  },
  {
   "cell_type": "markdown",
   "metadata": {},
   "source": [
    "CLEANING AND FILTERING 311 - STREET LIGHT OUTAGES DATA"
   ]
  },
  {
   "cell_type": "code",
   "execution_count": null,
   "metadata": {},
   "outputs": [],
   "source": [
    "#add a year column\n",
    "street['Year'] = pd.DatetimeIndex(street['Creation Date']).year\n",
    "street['Month'] = pd.DatetimeIndex(street['Creation Date']).month\n",
    "street['Day'] = pd.DatetimeIndex(street['Creation Date']).day\n",
    "street=street.loc[(street['Year']>2013) & (street['Year']<2019)]\n",
    "\n",
    "#Filtering out null and zero values\n",
    "street_nonull=street.dropna(subset=['Community Area'])\n",
    "street_nozero=street_nonull.loc[street_nonull['Community Area']!=0]"
   ]
  },
  {
   "cell_type": "markdown",
   "metadata": {},
   "source": [
    "MERGING CRIME AND COMMUNITY AREAS DATA"
   ]
  },
  {
   "cell_type": "code",
   "execution_count": null,
   "metadata": {},
   "outputs": [],
   "source": [
    "#merge the crime data with the community areas data\n",
    "crime_comm = pd.merge(crime, comm, left_on=\"Community Area\", right_on='AREA_NUMBE', how=\"left\")\n"
   ]
  },
  {
   "cell_type": "markdown",
   "metadata": {},
   "source": [
    "MERGING 311-STREET LIGHT OURAGES AND COMMUNITY AREAS DATA"
   ]
  },
  {
   "cell_type": "code",
   "execution_count": null,
   "metadata": {},
   "outputs": [],
   "source": [
    "#merge the street data with the community areas data\n",
    "street_comm = pd.merge(street_nozero, comm, left_on=\"Community Area\", right_on='AREA_NUMBE', how=\"left\")"
   ]
  },
  {
   "cell_type": "markdown",
   "metadata": {},
   "source": [
    "## Question 1 - Which Chicago neighborhoods have the most street light outages reported between 2014-2018?"
   ]
  },
  {
   "cell_type": "code",
   "execution_count": null,
   "metadata": {},
   "outputs": [],
   "source": [
    "#Create Community Area Count Variable\n",
    "community_area_counts = street_light_reports_pd.groupby([\"Community Area\"])[\"Creation Date\"].nunique()\n",
    "\n",
    "#Display Summary of Community Area Counts in Data Frame\n",
    "community_area_summary_table = pd.DataFrame({\"Total Street Light Outage Reportings\": community_area_counts})\n",
    "community_area_summary_table"
   ]
  },
  {
   "cell_type": "code",
   "execution_count": null,
   "metadata": {},
   "outputs": [],
   "source": [
    "#Display Summary of Community Area Names and Corresposonding Number in Data Frame\n",
    "community_area_names=community_area_names_pd[['COMMUNITY','AREA_NUMBE']]\n",
    "community_area_names"
   ]
  },
  {
   "cell_type": "code",
   "execution_count": null,
   "metadata": {},
   "outputs": [],
   "source": [
    "# Merge Dataframes to get Street Light Outage Reports and Community Names in One Dataframe\n",
    "community_data_merge = pd.merge(community_area_summary_table,community_area_names,left_on='Community Area', right_on='AREA_NUMBE', how=\"right\")\n",
    "\n",
    "#Sort Merged Dataframe by Highest Street Light Outages to Find Community With Highest Street Outages\n",
    "community_sort = community_data_merge.sort_values(by='Total Street Light Outage Reportings', ascending=False)\n",
    "\n",
    "# Display the Top 10 Neighborhoods With Most Street Light Outages 2014 to 2018\n",
    "community_sort.head(10)"
   ]
  },
  {
   "cell_type": "code",
   "execution_count": null,
   "metadata": {},
   "outputs": [],
   "source": [
    "#Display Bar Chart to compare community area street light outages between 2014-2018\n",
    "community_chart = community_sort.plot.bar(y='Total Street Light Outage Reportings', x='COMMUNITY', rot=90, figsize=(20,3))\n",
    "plt.savefig(\"Charts/Street_Light_Outage_by_Community\")"
   ]
  },
  {
   "cell_type": "code",
   "execution_count": null,
   "metadata": {},
   "outputs": [],
   "source": [
    "# Filter Street Light Outage Totals by Year \n",
    "year_2014 = street_light_reports_pd[street_light_reports_pd['Year']==2014]\n",
    "year_2015 = street_light_reports_pd[street_light_reports_pd['Year']==2015]\n",
    "year_2016 = street_light_reports_pd[street_light_reports_pd['Year']==2016]\n",
    "year_2017 = street_light_reports_pd[street_light_reports_pd['Year']==2017]\n",
    "year_2018 = street_light_reports_pd[street_light_reports_pd['Year']==2018]"
   ]
  },
  {
   "cell_type": "code",
   "execution_count": null,
   "metadata": {},
   "outputs": [],
   "source": [
    "#Filter Street Light Counts by 2014 \n",
    "counts_by_year_2014 = year_2014.groupby([\"Community Area\",\"Year\"])[\"Creation Date\"].nunique()\n",
    "\n",
    "#Display 2014 Summary of Street Light Outages by Year in Data Frame\n",
    "counts_by_year_2014_summary_table = pd.DataFrame({ \"# of Outages in 2014\": counts_by_year_2014})\n",
    "\n",
    "#Sort Merged Dataframe by Highest Street Light Outages to Find Community With Highest Street Outages\n",
    "community_sort_2014 = counts_by_year_2014_summary_table.sort_values(by='# of Outages in 2014', ascending=False)\n",
    "\n",
    "# Display the Top 5 Neighborhoods With Most Street Light Outages in 2014\n",
    "community_sort_2014.head(5)"
   ]
  },
  {
   "cell_type": "code",
   "execution_count": null,
   "metadata": {},
   "outputs": [],
   "source": [
    "#Filter Street Light Counts by 2015 \n",
    "counts_by_year_2015 = year_2015.groupby([\"Community Area\",\"Year\"])[\"Creation Date\"].nunique()\n",
    "\n",
    "#Display 2015 Summary of Street Light Outages by Year in Data Frame\n",
    "counts_by_year_2015_summary_table = pd.DataFrame({\"# of Outages in 2015\": counts_by_year_2015})\n",
    "\n",
    "#Sort Merged Dataframe by Highest Street Light Outages to Find Community With Highest Street Outages\n",
    "community_sort_2015 = counts_by_year_2015_summary_table.sort_values(by='# of Outages in 2015', ascending=False)\n",
    "\n",
    "# Display the Top 5 Neighborhoods With Most Street Light Outages in 2015\n",
    "community_sort_2015.head(5)"
   ]
  },
  {
   "cell_type": "code",
   "execution_count": null,
   "metadata": {},
   "outputs": [],
   "source": [
    "#Filter Street Light Counts by 2016 \n",
    "counts_by_year_2016 = year_2016.groupby([\"Community Area\",\"Year\"])[\"Creation Date\"].nunique()\n",
    "\n",
    "#Display 2014 Summary of Street Light Outages by Year in Data Frame\n",
    "counts_by_year_2016_summary_table = pd.DataFrame({\"# of Outages in 2016\": counts_by_year_2016})\n",
    "\n",
    "#Sort Merged Dataframe by Highest Street Light Outages to Find Community With Highest Street Outages\n",
    "community_sort_2016 = counts_by_year_2016_summary_table.sort_values(by='# of Outages in 2016', ascending=False)\n",
    "\n",
    "# Display the Top 5 Neighborhoods With Most Street Light Outages in 2016\n",
    "community_sort_2016.head(5)"
   ]
  },
  {
   "cell_type": "code",
   "execution_count": null,
   "metadata": {},
   "outputs": [],
   "source": [
    "#Filter Street Light Counts by 2017 \n",
    "counts_by_year_2017 = year_2017.groupby([\"Community Area\",\"Year\"])[\"Creation Date\"].nunique()\n",
    "\n",
    "#Display 2017 Summary of Street Light Outages by Year in Data Frame\n",
    "counts_by_year_2017_summary_table = pd.DataFrame({\"# of Outages in 2017\": counts_by_year_2017})\n",
    "\n",
    "#Sort Merged Dataframe by Highest Street Light Outages to Find Community With Highest Street Outages\n",
    "community_sort_2017 = counts_by_year_2017_summary_table.sort_values(by='# of Outages in 2017', ascending=False)\n",
    "\n",
    "# Display the Top 5 Neighborhoods With Most Street Light Outages in 2017\n",
    "community_sort_2017.head(5)"
   ]
  },
  {
   "cell_type": "code",
   "execution_count": null,
   "metadata": {},
   "outputs": [],
   "source": [
    "#Filter Street Light Counts by 2018\n",
    "counts_by_year_2018 = year_2018.groupby([\"Community Area\",\"Year\"])[\"Creation Date\"].nunique()\n",
    "\n",
    "#Display 2018 Summary of Street Light Outages by Year in Data Frame\n",
    "counts_by_year_2018_summary_table = pd.DataFrame({\"# of Outages in 2018\": counts_by_year_2018})\n",
    "\n",
    "#Sort Merged Dataframe by Highest Street Light Outages to Find Community With Highest Street Outages\n",
    "community_sort_2018 = counts_by_year_2018_summary_table.sort_values(by='# of Outages in 2018', ascending=False)\n",
    "\n",
    "# Display the Top 10 Neighborhoods With Most Street Light Outages in 2018\n",
    "community_sort_2018.head(5)"
   ]
  },
  {
   "cell_type": "markdown",
   "metadata": {},
   "source": [
    "## Question 2 - What address has the most street light outage reports? Which year had the most street light outage reports?"
   ]
  },
  {
   "cell_type": "code",
   "execution_count": null,
   "metadata": {},
   "outputs": [],
   "source": [
    "street_light_reports_pd\n",
    "\n",
    "# Filtering for the column that I will be usings\n",
    "srsl_df = street_light_reports_pd[['Service Request Number', 'Type of Service Request', 'Street Address', 'ZIP Code', 'Year', 'Month', 'Day']]\n",
    "# Find the most service requests by year\n",
    "most_by_year = srsl_df.groupby([\"Year\"])\n",
    "most_by_year = most_by_year[\"Service Request Number\"].count()\n",
    "most_by_year = pd.DataFrame(most_by_year)\n",
    "service_chart = most_by_year.plot(kind='bar', legend=0)\n",
    "service_chart.set_ylabel(\"Number of Service Request\")\n",
    "service_chart.set_title(\"Total Number of Service Request Per Year\")\n",
    "plt.savefig(\"Charts/Total Number of Service Request Per Year\")"
   ]
  },
  {
   "cell_type": "code",
   "execution_count": null,
   "metadata": {},
   "outputs": [],
   "source": [
    "# Using value_counts to solve for the address with the most Service Requests\n",
    "# Finding the total of service requests by year\n",
    "srsl_2014 = srsl_df.loc[(srsl_df['Year']==2014)]\n",
    "srsl_gb_2014 = srsl_2014.groupby('Year')['Street Address'].value_counts()\n",
    "srsl_gb_2014 = pd.DataFrame(srsl_gb_2014)\n",
    "srsl_gb_2014 = srsl_gb_2014.rename(columns={'Street Address': 'Total'})\n",
    "most_request_2014 = srsl_gb_2014.head(1)\n",
    "\n",
    "# Solving for 2015\n",
    "srsl_2015 = srsl_df.loc[(srsl_df['Year']==2015)]\n",
    "srsl_gb_2015 = srsl_2015.groupby('Year')['Street Address'].value_counts()\n",
    "srsl_gb_2015 = pd.DataFrame(srsl_gb_2015)\n",
    "srsl_gb_2015 = srsl_gb_2015.rename(columns={'Street Address': 'Total'})\n",
    "most_request_2015 = srsl_gb_2015.head(1)\n",
    "\n",
    "# Solving for 2016\n",
    "srsl_2016 = srsl_df.loc[(srsl_df['Year']==2016)]\n",
    "srsl_gb_2016 = srsl_2016.groupby('Year')['Street Address'].value_counts()\n",
    "srsl_gb_2016 = pd.DataFrame(srsl_gb_2016)\n",
    "srsl_gb_2016 = srsl_gb_2016.rename(columns={'Street Address': 'Total'})\n",
    "most_request_2016 = srsl_gb_2016.head(1)\n",
    "\n",
    "# Solving for 2017\n",
    "srsl_2017 = srsl_df.loc[(srsl_df['Year']==2017)]\n",
    "srsl_gb_2017 = srsl_2017.groupby('Year')['Street Address'].value_counts()\n",
    "srsl_gb_2017 = pd.DataFrame(srsl_gb_2017)\n",
    "srsl_gb_2017 = srsl_gb_2017.rename(columns={'Street Address': 'Total'})\n",
    "most_request_2017 = srsl_gb_2017.head(1)\n",
    "\n",
    "# Solving for 2018\n",
    "srsl_2018 = srsl_df.loc[(srsl_df['Year']==2018)]\n",
    "srsl_gb_2018 = srsl_2018.groupby('Year')['Street Address'].value_counts()\n",
    "srsl_gb_2018 = pd.DataFrame(srsl_gb_2018)\n",
    "srsl_gb_2018 = srsl_gb_2018.rename(columns={'Street Address': 'Total'})\n",
    "most_request_2018 = srsl_gb_2018.head(1)\n",
    "\n",
    "# Appending all dataframe above\n",
    "most_request_append = most_request_2014.append([most_request_2015, most_request_2016, most_request_2017, most_request_2018])\n",
    "\n",
    "# Using a pivot_table so that I can create headings as the Street Addresses\n",
    "most_request_pt = most_request_append.pivot_table(index='Year', columns='Street Address', values='Total')\n",
    "\n",
    "# Creating a bar chart with different colors to precent Highest and lowest street outages\n",
    "# Using np.arange(len(most_request_pt)) to count my x axes ticks\n",
    "x_axis = np.arange(len(most_request_pt))\n",
    "\n",
    "# Creating individual bar chart so that I can change colors\n",
    "plt.barh(x_axis, most_request_pt['1000 N LAKE SHORE DR'], color='blue', label=\"1000 N LAKE SHORE DR\", align=\"center\")\n",
    "plt.barh(x_axis, most_request_pt['12500 S PRINCETON AVE'], color='red', label=\"12500 S PRINCETON AVE\",align=\"center\")\n",
    "plt.barh(x_axis, most_request_pt['13500 S INDIANA AVE'], color='black', label='13500 S INDIANA AVE', alpha=0.75, align=\"center\")\n",
    "plt.barh(x_axis, most_request_pt['3200 W AUGUSTA BLVD'], color='black', label='3200 W AUGUSTA BLVD', alpha=0.5, align=\"center\")\n",
    "plt.barh(x_axis, most_request_pt['3547 N ALBANY AVE'], color='black', label='3547 N ALBANY AVE', alpha=0.25, align=\"center\")\n",
    "tick_locations = [value for value in x_axis]\n",
    "plt.gcf().set_size_inches(15, 5)\n",
    "plt.yticks(tick_locations, [2014, 2015, 2016, 2017, 2018])\n",
    "plt.legend(loc=\"best\")\n",
    "plt.title(\"Most Service Request Per Year\")\n",
    "plt.ylabel(\"By Year\")\n",
    "plt.xlabel(\"Number of Service Request\")\n",
    "plt.savefig(\"Charts/Most Service Request Per Year\")"
   ]
  },
  {
   "cell_type": "markdown",
   "metadata": {},
   "source": [
    "## Question 3 - Average time it takes for outages to get fixed per neighborhood?"
   ]
  },
  {
   "cell_type": "code",
   "execution_count": null,
   "metadata": {},
   "outputs": [],
   "source": [
    "## Join 2 tables to display community names.\n",
    "service_requests_by_community = pd.merge(street_light_reports_pd, community_area_names_pd, left_on='Community Area', right_on='AREA_NUMBE', how='left')\n",
    "## Drop extra column\n",
    "service_requests_by_community = service_requests_by_community.drop([\"Latitude\",\"Longitude\",\"Location\",\"AREA_NUMBE\",\"the_geom\",\"PERIMETER\",\"AREA\",\"COMAREA_\",\"COMAREA_ID\",\"AREA_NUM_1\",\"SHAPE_AREA\",\"SHAPE_LEN\"], axis=1)\n",
    "## Calculate service requests resolution time after setting completion_date to current date if N/A\n",
    "service_requests_by_community['Resolution Time(days)'] = (pd.to_datetime(service_requests_by_community['Completion Date'].fillna(pd.datetime.now().date())) - pd.to_datetime(service_requests_by_community['Creation Date'])).dt.days\n",
    "service_requests_by_community.head()"
   ]
  },
  {
   "cell_type": "code",
   "execution_count": null,
   "metadata": {},
   "outputs": [],
   "source": [
    "## Filter out rows where community_area = 0 OR service_request_number is duplicate \n",
    "service_requests_by_community = service_requests_by_community.loc[(service_requests_by_community['Community Area']!=0)]\n",
    "service_requests_by_community = service_requests_by_community.drop_duplicates(subset=\"Service Request Number\")\n",
    "service_requests_by_community.head()"
   ]
  },
  {
   "cell_type": "code",
   "execution_count": null,
   "metadata": {},
   "outputs": [],
   "source": [
    "service_requests_by_community_average_time = service_requests_by_community.groupby([\"COMMUNITY\",\"Year\"])[\"Resolution Time(days)\"].mean()\n",
    "service_requests_by_community_average_time.sort_values(ascending=False)\n",
    "service_requests_by_community_average_time = pd.DataFrame(service_requests_by_community_average_time).reset_index()\n",
    "service_requests_by_community_average_time"
   ]
  },
  {
   "cell_type": "code",
   "execution_count": null,
   "metadata": {},
   "outputs": [],
   "source": [
    "# Filtered by year\n",
    "service_requests_by_community_average_time_2014 = service_requests_by_community_average_time.loc[service_requests_by_community_average_time[\"Year\"] == 2014].sort_values(by=\"Resolution Time(days)\",ascending=False)\n",
    "service_requests_by_community_average_time_2015 = service_requests_by_community_average_time.loc[service_requests_by_community_average_time[\"Year\"] == 2015].sort_values(by=\"Resolution Time(days)\",ascending=False)\n",
    "service_requests_by_community_average_time_2016 = service_requests_by_community_average_time.loc[service_requests_by_community_average_time[\"Year\"] == 2016].sort_values(by=\"Resolution Time(days)\",ascending=False)\n",
    "service_requests_by_community_average_time_2017 = service_requests_by_community_average_time.loc[service_requests_by_community_average_time[\"Year\"] == 2017].sort_values(by=\"Resolution Time(days)\",ascending=False)\n",
    "service_requests_by_community_average_time_2018 = service_requests_by_community_average_time.loc[service_requests_by_community_average_time[\"Year\"] == 2018].sort_values(by=\"Resolution Time(days)\",ascending=False)"
   ]
  },
  {
   "cell_type": "markdown",
   "metadata": {},
   "source": [
    "### Visuals for"
   ]
  },
  {
   "cell_type": "code",
   "execution_count": null,
   "metadata": {},
   "outputs": [],
   "source": [
    "average_time_chart_2014 = service_requests_by_community_average_time_2014.plot.bar(y='Resolution Time(days)', x='COMMUNITY', label=\"Outage Resolution Time(in days)\",alpha=0.5, align=\"center\", color=\"green\", rot=90, figsize=(30,5), title=\"Average Time To Fix Street Lights Outages in 2014\")\n",
    "plt.savefig(\"Charts/average_time_chart_2014.png\", bbox_inches = 'tight')\n",
    "average_time_chart_2015 = service_requests_by_community_average_time_2015.plot.bar(y='Resolution Time(days)', x='COMMUNITY', label=\"Outage Resolution Time(in days)\", alpha=0.5, align=\"center\", color=\"blue\", rot=90, figsize=(30,5), title=\"Average Time To Fix Street Lights Outages in 2015\")\n",
    "plt.savefig(\"Charts/average_time_chart_2015.png\", bbox_inches = 'tight')\n",
    "average_time_chart_2016 = service_requests_by_community_average_time_2016.plot.bar(y='Resolution Time(days)', x='COMMUNITY', label=\"Outage Resolution Time(in days)\", alpha=0.5, align=\"center\", color=\"red\", rot=90, figsize=(30,5), title=\"Average Time To Fix Street Lights Outages in 2016\")\n",
    "plt.savefig(\"Charts/average_time_chart_2016.png\", bbox_inches = 'tight')\n",
    "average_time_chart_2017 = service_requests_by_community_average_time_2017.plot.bar(y='Resolution Time(days)', x='COMMUNITY', label=\"Outage Resolution Time(in days)\", alpha=0.7, align=\"center\", color=\"blue\", rot=90, figsize=(30,5), title=\"Average Time To Fix Street Lights Outages in 2017\")\n",
    "plt.savefig(\"Charts/average_time_chart_2017.png\", bbox_inches = 'tight')\n",
    "average_time_chart_2018 = service_requests_by_community_average_time_2018.plot.bar(y='Resolution Time(days)', x='COMMUNITY', label=\"Outage Resolution Time(in days)\", alpha=0.7, align=\"center\", color=\"green\", rot=90, figsize=(30,5), title=\"Average Time To Fix Street Lights Outages in 2018\")\n",
    "plt.savefig(\"Charts/average_time_chart_2018.png\", bbox_inches = 'tight')"
   ]
  },
  {
   "cell_type": "markdown",
   "metadata": {},
   "source": [
    "## Question 4 - What are the crime rates/reports in neighborhoods with street light outages?"
   ]
  },
  {
   "cell_type": "markdown",
   "metadata": {},
   "source": [
    "CRIME ANALYTICS"
   ]
  },
  {
   "cell_type": "code",
   "execution_count": null,
   "metadata": {},
   "outputs": [],
   "source": [
    "#total number of records by Community Area\n",
    "c_bycomm=crime_comm.groupby(['COMMUNITY'])['ID'].count().reset_index().sort_values(by='ID',ascending=False)\n",
    "# c_bycomm=c_bycomm.sort_values(by='ID',ascending=False)\n",
    "\n",
    "#total number of records by Year\n",
    "c_byyear=crime_comm.groupby(['Year'])['ID'].count().reset_index().sort_values(by='ID',ascending=False)\n",
    "\n",
    "#total number of records by year by Month\n",
    "c_byyear_bymonth=crime_comm.groupby(['Year','Month'])['ID'].count().reset_index().sort_values(by='ID',ascending=False)\n",
    "\n",
    "#total number of crimes by crime type\n",
    "c_bytype=crime_comm.groupby(['Primary Type'])['ID'].count().reset_index().sort_values(by='ID',ascending=False)\n",
    "\n",
    "#total number of crime reports by community area by year by month\n",
    "c_bycomm_byyear=crime_comm.groupby(['COMMUNITY','Year'])['ID'].count().reset_index().sort_values(by='ID',ascending=False)\n",
    "\n",
    "#total number of crime reports by community area by year by month\n",
    "c_bycomm_byyear_bymonth=crime_comm.groupby(['COMMUNITY','Year','Month'])['ID'].count().reset_index().sort_values(by='ID',ascending=False)\n",
    "\n",
    "c_bycomm_byType=crime_comm.groupby(['COMMUNITY','Primary Type'])['ID'].count().reset_index()\n",
    "c_bycomm_byType=c_bycomm_byType.loc[c_bycomm_byType['COMMUNITY']=='AUSTIN']\n",
    "c_bycomm_byType=c_bycomm_byType.sort_values(by='ID',ascending=False).head(5)"
   ]
  },
  {
   "cell_type": "code",
   "execution_count": null,
   "metadata": {},
   "outputs": [],
   "source": [
    "c_bycomm"
   ]
  },
  {
   "cell_type": "code",
   "execution_count": null,
   "metadata": {},
   "outputs": [],
   "source": [
    "c_byyear"
   ]
  },
  {
   "cell_type": "code",
   "execution_count": null,
   "metadata": {},
   "outputs": [],
   "source": [
    "c_byyear_bymonth.head()"
   ]
  },
  {
   "cell_type": "code",
   "execution_count": null,
   "metadata": {},
   "outputs": [],
   "source": [
    "c_bytype.head()"
   ]
  },
  {
   "cell_type": "code",
   "execution_count": null,
   "metadata": {},
   "outputs": [],
   "source": [
    "c_bycomm_byType.head(5)"
   ]
  },
  {
   "cell_type": "markdown",
   "metadata": {},
   "source": [
    "311-STREET REQUEST ANALYTICS"
   ]
  },
  {
   "cell_type": "code",
   "execution_count": null,
   "metadata": {},
   "outputs": [],
   "source": [
    "#Total number of requests by community area\n",
    "s_bycomm=street_comm.groupby(['COMMUNITY'])['Service Request Number'].count().reset_index()\n",
    "s_bycomm.head()\n",
    "\n",
    "#Total number of requests by year\n",
    "s_byyear=street_comm.groupby(['Year'])['Service Request Number'].count().reset_index()\n",
    "\n",
    "#Total number of requests by year by month\n",
    "s_byyear_bymonth=street_comm.groupby(['Year','Month'])['Service Request Number'].count().reset_index()\n",
    "\n",
    "#Total number of requests by community area by year\n",
    "s_bycomm_byyear=street_comm.groupby(['COMMUNITY','Year'])['Service Request Number'].count().reset_index()"
   ]
  },
  {
   "cell_type": "markdown",
   "metadata": {},
   "source": [
    "MERGING CRIME & 311 - STREET LIGHT OUTAGES & POPULATION DATA"
   ]
  },
  {
   "cell_type": "code",
   "execution_count": null,
   "metadata": {},
   "outputs": [],
   "source": [
    "bycomm = pd.merge(c_bycomm, s_bycomm, on=\"COMMUNITY\", how=\"left\")\n",
    "bycomm_pop = pd.merge(bycomm, pop, left_on=\"COMMUNITY\", right_on='Community', how=\"left\")\n"
   ]
  },
  {
   "cell_type": "markdown",
   "metadata": {},
   "source": [
    "CLEANING & CREATING A NEW COLUMN IN THE MERGED DATA"
   ]
  },
  {
   "cell_type": "code",
   "execution_count": null,
   "metadata": {},
   "outputs": [],
   "source": [
    "bycomm_pop['Total Population']=pd.to_numeric(bycomm_pop['Total Population'].astype(str).str.replace(',',''), errors='coerce')\n",
    "bycomm_pop['No. of Service Requests to Crime Reports']=bycomm_pop['ID']/bycomm_pop['Service Request Number']\n"
   ]
  },
  {
   "cell_type": "markdown",
   "metadata": {},
   "source": [
    "MERGED DATA ANALYTICS"
   ]
  },
  {
   "cell_type": "code",
   "execution_count": null,
   "metadata": {},
   "outputs": [],
   "source": [
    "#sorting by the ratio of Service Requests to Crime reports\n",
    "bycomm_pop=bycomm_pop.sort_values(['No. of Service Requests to Crime Reports'],ascending=False)\n",
    "\n",
    "byyear = pd.merge(c_byyear, s_byyear, on=\"Year\", how=\"left\")\n",
    "\n",
    "byyearbymonth = pd.merge(c_byyear_bymonth, s_byyear_bymonth, on=[\"Year\",\"Month\"], how=\"left\")\n",
    "\n",
    "bycommbyyear = pd.merge(c_bycomm_byyear, s_bycomm_byyear, on=[\"COMMUNITY\",\"Year\"], how=\"left\")\n",
    "bycommbyyear = pd.merge(bycommbyyear, comm, on=[\"COMMUNITY\"], how=\"left\")"
   ]
  },
  {
   "cell_type": "code",
   "execution_count": null,
   "metadata": {},
   "outputs": [],
   "source": [
    "bycomm_pop\n",
    "# Notes:\n",
    "# Forest Glen (1:3.73)\n",
    "# Austin (1:31)\n",
    "# Loop (1:57)"
   ]
  },
  {
   "cell_type": "markdown",
   "metadata": {},
   "source": [
    "LET'S MAKE SOME VISUALS\n"
   ]
  },
  {
   "cell_type": "code",
   "execution_count": null,
   "metadata": {},
   "outputs": [],
   "source": [
    "#community areas by crime by street\n",
    "\n",
    "x=bycomm_pop['ID']\n",
    "y=bycomm_pop['Service Request Number']\n",
    "z=bycomm_pop['Community']\n",
    "w=bycomm_pop['No. of Service Requests to Crime Reports']\n",
    "\n",
    "fig, ax = plt.subplots(figsize=(20,10))\n",
    "ax.scatter(x,y,s=bycomm_pop['Total Population']*.003,c='purple',alpha=0.6)\n",
    "\n",
    "#Street light request data\n",
    "y_max=y.max()\n",
    "y_min=y.min()\n",
    "\n",
    "i=bycomm_pop.loc[y==y_max, 'ID'].iloc[0]\n",
    "j=bycomm_pop.loc[y==y_max, 'Service Request Number'].iloc[0]\n",
    "ax.annotate(bycomm_pop.loc[y==y_max, 'Community'].iloc[0] + \" (Largest Service Request)\", xy=(i+1000, j))\n",
    "\n",
    "k=bycomm_pop.loc[y==y_min, 'ID'].iloc[0]\n",
    "m=bycomm_pop.loc[y==y_min, 'Service Request Number'].iloc[0]\n",
    "ax.annotate(bycomm_pop.loc[y==y_min, 'Community'].iloc[0] + \" (Smallest Service Request)\", xy=(k, m))\n",
    "\n",
    "#Crime numbers\n",
    "x_max=x.max()\n",
    "x_min=x.min()\n",
    "\n",
    "n=bycomm_pop.loc[x==x_max, 'ID'].iloc[0]\n",
    "p=bycomm_pop.loc[x==x_max, 'Service Request Number'].iloc[0]\n",
    "ax.annotate(bycomm_pop.loc[x==x_max, 'Community'].iloc[0] + \" (Largest Crime)\", xy=(n-1000, p-75))\n",
    "\n",
    "q=bycomm_pop.loc[x==x_min, 'ID'].iloc[0]\n",
    "r=bycomm_pop.loc[x==x_min, 'Service Request Number'].iloc[0]\n",
    "ax.annotate(bycomm_pop.loc[x==x_min, 'Community'].iloc[0] + \" (Smallest Crime)\", xy=(q, r))\n",
    "\n",
    "#Service Request to Crime ratio\n",
    "w_max=w.max()\n",
    "w_min=w.min()\n",
    "\n",
    "t=bycomm_pop.loc[w==w_max, 'ID'].iloc[0]\n",
    "u=bycomm_pop.loc[w==w_max, 'Service Request Number'].iloc[0]\n",
    "ax.annotate(bycomm_pop.loc[w==w_max, 'Community'].iloc[0] + \" (Largest Service Request to Crime Report Ratio)\", xy=(t, u))\n",
    "\n",
    "a=bycomm_pop.loc[w==w_min, 'ID'].iloc[0]\n",
    "b=bycomm_pop.loc[w==w_min, 'Service Request Number'].iloc[0]\n",
    "print(a)\n",
    "print(b)\n",
    "ax.annotate(bycomm_pop.loc[w==w_min, 'Community'].iloc[0] + \" (Smallest  Service Request to Crime Report Ratio)\", xy=(a, b))"
   ]
  },
  {
   "cell_type": "code",
   "execution_count": null,
   "metadata": {},
   "outputs": [],
   "source": [
    "#https://www.kaggle.com/threadid/geopandas-mapping-chicago-crimes \n",
    "\n",
    "street_map= gpd.read_file(r'C:\\Users\\dharti.patel\\Desktop\\NU_DS_Project1\\Street-Lights\\Street-Lights\\geo_export_f11eb402-3887-43c2-a681-95fde0bf6fbf.shp')\n",
    "\n",
    "# fig,ax=plt.subplots(figsize=(15,15))\n",
    "# street_map.plot(ax=ax)"
   ]
  },
  {
   "cell_type": "code",
   "execution_count": null,
   "metadata": {},
   "outputs": [],
   "source": [
    "#Street Lights\n",
    "\n",
    "crs={'init':'epsg:4326'}\n",
    "street_comm.dtypes\n",
    "street_comm.head()\n",
    "\n",
    "geometry= [Point(xy) for xy in zip(street_comm[\"Longitude\"],street_comm[\"Latitude\"])]\n",
    "geometry[:3]\n",
    "\n",
    "\n",
    "geo_df=gpd.GeoDataFrame(street_comm,\n",
    "                       crs=crs,\n",
    "                       geometry=geometry)\n",
    "geo_df.head()\n",
    "\n",
    "# fig.ax=plt.subplots(figsize=(15,15))\n",
    "# street_map.plot(ax=ax,alpha=0.4,color=\"grey\")\n",
    "# geo_df[geo_df[geometry]==0].plot(ax=ax,markersize=20,color=\"blue\",marker=\"o\",label=\"Neg\")\n",
    "# # geo_df[geo_df['WnvPresent']==0].plot(ax=ax,markersize=20,color=\"red\",marker=\"^\",label=\"Pos\")\n",
    "# # plt.legend(plot={'size':15})\n",
    "\n",
    "street_loc_df = geo_df.dropna(inplace=False)  # Remove all nan entries. \n",
    "street_loc_df = street_loc_df.drop(street_loc_df[(street_loc_df.Latitude < 41.0)].index) #Remove bad values in Long/Lat \n",
    "street_loc_df['AREA_NUMBE'] = street_loc_df['AREA_NUMBE'].astype(int)\n",
    "street_geometry = [Point(xy) for xy in zip(street_loc_df.Longitude, street_loc_df.Latitude)]\n",
    "# street_geometry = geo_df['geometry']\n",
    "\n",
    "street_crs = {'type': 'EPSG', 'properties': {'code': 102671}}\n",
    "street_points = GeoDataFrame(street_loc_df, crs=street_crs, geometry=street_geometry)\n",
    "street_points.head(5)\n",
    "\n",
    "# street_map = geo_df.plot(figsize=(25,25), edgecolor='k', facecolor='b', alpha=0.25, linewidth=2) \n",
    "\n",
    "#Street lights data\n",
    "# street_points = street_points.plot(figsize=(10,10), markersize=5) \n",
    "# street_points.set_axis_off()\n",
    "\n",
    "# chistreet_map = street_map.plot(figsize=(25,25), edgecolor='#7f7f7f', cmap='nipy_spectral', alpha=0.5, linewidth=2) \n",
    "# street_map.apply(lambda x: chistreet_map.annotate(s=x.community, xy=x.geometry.centroid.coords[0], ha='center', size=16),axis=1);\n",
    "# chistreet_map.set_axis_off()\n",
    "\n",
    "chistreet_map = street_map.plot(figsize=(15,15), edgecolor='#7f7f7f', facecolor='#1f77b4', alpha=0.25, linewidth=2) \n",
    "street_map.apply(lambda x: chistreet_map.annotate(s=x.community, xy=x.geometry.centroid.coords[0], ha='center', size=6),axis=1);\n",
    "street_points.plot(figsize=(25,25),ax=chistreet_map, markersize=1, color='y', alpha=0.25)\n",
    "chistreet_map.set_axis_off()\n",
    "\n",
    "#yearly streetlight visual\n",
    "\n",
    "# for i in (2014,2015,2016,2017,2018):\n",
    "#     street_vc_points = street_points.loc[street_points['Year'].isin([i])]\n",
    "\n",
    "#     street_vc_points_map = street_vc_points.plot(figsize=(5,5), markersize=1, c='blue', alpha=0.2) \n",
    "#     street_vc_points_map.set_axis_off()\n",
    "#     street_vc_points_map.set(title=i)\n",
    "    \n",
    "#yearly streetlight visual\n",
    "\n",
    "street_vc_points = street_points.loc[street_points['Year'].isin(['2014'])]\n",
    "\n",
    "street_vc_points_map = street_vc_points.plot(figsize=(10,10), markersize=1, c='red', alpha=0.2) \n",
    "street_vc_points_map.set_axis_off()\n",
    "street_vc_points_map.set(title='Street Light Outages 2014')\n",
    "\n",
    "street_vc_points = street_points.loc[street_points['Year'].isin(['2015'])]\n",
    "\n",
    "street_vc_points_map = street_vc_points.plot(figsize=(10,10), markersize=1, c='blue', alpha=0.2) \n",
    "street_vc_points_map.set_axis_off()\n",
    "street_vc_points_map.set(title='Street Light Outages 2015')\n",
    "\n",
    "street_vc_points = street_points.loc[street_points['Year'].isin(['2016'])]\n",
    "\n",
    "street_vc_points_map = street_vc_points.plot(figsize=(10,10), markersize=1, c='purple', alpha=0.2) \n",
    "street_vc_points_map.set_axis_off()\n",
    "street_vc_points_map.set(title='Street Light Outages 2016')\n",
    "\n",
    "street_vc_points = street_points.loc[street_points['Year'].isin(['2017'])]\n",
    "\n",
    "street_vc_points_map = street_vc_points.plot(figsize=(10,10), markersize=1, c='green', alpha=0.2) \n",
    "street_vc_points_map.set_axis_off()\n",
    "street_vc_points_map.set(title='Street Light Outages 2017')\n",
    "\n",
    "street_vc_points = street_points.loc[street_points['Year'].isin(['2018'])]\n",
    "\n",
    "street_vc_points_map = street_vc_points.plot(figsize=(10,10), markersize=1, c='orange', alpha=0.2) \n",
    "street_vc_points_map.set_axis_off()\n",
    "street_vc_points_map.set(title='Street Light Outages 2018')\n",
    "\n"
   ]
  },
  {
   "cell_type": "code",
   "execution_count": null,
   "metadata": {},
   "outputs": [],
   "source": [
    "# Crime maps\n",
    "\n",
    "crime_comm['Primary Type'].unique()\n",
    "\n",
    "crime_comm_type=crime_comm.loc[crime_comm['Primary Type']=='BATTERY']\n",
    "\n",
    "\n",
    "\n",
    "\n",
    "crs={'init':'epsg:4326'}\n",
    "crime_comm_type.dtypes\n",
    "crime_comm_type.head()\n",
    "\n",
    "geometry= [Point(xy) for xy in zip(crime_comm_type[\"Longitude\"],crime_comm_type[\"Latitude\"])]\n",
    "geometry[:3]\n",
    "\n",
    "\n",
    "geo_df=gpd.GeoDataFrame(crime_comm_type,\n",
    "                       crs=crs,\n",
    "                       geometry=geometry)\n",
    "geo_df.head()\n",
    "\n",
    "# fig.ax=plt.subplots(figsize=(15,15))\n",
    "# crime_map.plot(ax=ax,alpha=0.4,color=\"grey\")\n",
    "# geo_df[geo_df[geometry]==0].plot(ax=ax,markersize=20,color=\"blue\",marker=\"o\",label=\"Neg\")\n",
    "# # geo_df[geo_df['WnvPresent']==0].plot(ax=ax,markersize=20,color=\"red\",marker=\"^\",label=\"Pos\")\n",
    "# # plt.legend(plot={'size':15})\n",
    "\n",
    "crime_loc_df = geo_df.dropna(inplace=False)  # Remove all nan entries. \n",
    "crime_loc_df = crime_loc_df.drop(crime_loc_df[(crime_loc_df.Latitude < 41.0)].index) #Remove bad values in Long/Lat \n",
    "crime_loc_df['AREA_NUMBE'] = crime_loc_df['AREA_NUMBE'].astype(int)\n",
    "crime_geometry = [Point(xy) for xy in zip(crime_loc_df.Longitude, crime_loc_df.Latitude)]\n",
    "# crime_geometry = geo_df['geometry']\n",
    "\n",
    "crime_crs = {'type': 'EPSG', 'properties': {'code': 102671}}\n",
    "crime_points = GeoDataFrame(crime_loc_df, crs=crime_crs, geometry=crime_geometry)\n",
    "crime_points.head(5)\n",
    "\n",
    "# crime_map = geo_df.plot(figsize=(25,25), edgecolor='k', facecolor='b', alpha=0.25, linewidth=2) \n",
    "\n",
    "#crime lights data\n",
    "# crime_points = crime_points.plot(figsize=(10,10), markersize=5) \n",
    "# crime_points.set_axis_off()\n",
    "\n",
    "# chicrime_map = crime_map.plot(figsize=(25,25), edgecolor='#7f7f7f', cmap='nipy_spectral', alpha=0.5, linewidth=2) \n",
    "# crime_map.apply(lambda x: chicrime_map.annotate(s=x.community, xy=x.geometry.centroid.coords[0], ha='center', size=16),axis=1);\n",
    "# chicrime_map.set_axis_off()\n",
    "\n",
    "chicrime_map = street_map.plot(figsize=(15,15), edgecolor='#7f7f7f', facecolor='#1f77b4', alpha=0.25, linewidth=2) \n",
    "street_map.apply(lambda x: chicrime_map.annotate(s=x.community, xy=x.geometry.centroid.coords[0], ha='center', size=6),axis=1);\n",
    "crime_points.plot(figsize=(25,25),ax=chicrime_map, markersize=1, color='r', alpha=0.25)\n",
    "chicrime_map.set_axis_off()\n",
    "\n",
    "#yearly streetlight visual\n",
    "\n",
    "crime_vc_points = crime_points.loc[crime_points['Year'].isin(['2014'])]\n",
    "\n",
    "crime_vc_points_map = crime_vc_points.plot(figsize=(10,10), markersize=1, c='red', alpha=0.2) \n",
    "crime_vc_points_map.set_axis_off()\n",
    "crime_vc_points_map.set(title='Crime: Battery (2014)')\n",
    "\n",
    "crime_vc_points = crime_points.loc[crime_points['Year'].isin(['2015'])]\n",
    "\n",
    "crime_vc_points_map = crime_vc_points.plot(figsize=(10,10), markersize=1, c='blue', alpha=0.2) \n",
    "crime_vc_points_map.set_axis_off()\n",
    "crime_vc_points_map.set(title='Crime: Battery (2015)')\n",
    "\n",
    "crime_vc_points = crime_points.loc[crime_points['Year'].isin(['2016'])]\n",
    "\n",
    "crime_vc_points_map = crime_vc_points.plot(figsize=(10,10), markersize=1, c='purple', alpha=0.2) \n",
    "crime_vc_points_map.set_axis_off()\n",
    "crime_vc_points_map.set(title='Crime: Battery (2016)')\n",
    "\n",
    "crime_vc_points = crime_points.loc[crime_points['Year'].isin(['2017'])]\n",
    "\n",
    "crime_vc_points_map = crime_vc_points.plot(figsize=(10,10), markersize=1, c='green', alpha=0.2) \n",
    "crime_vc_points_map.set_axis_off()\n",
    "crime_vc_points_map.set(title='Crime: Battery (2017)')\n",
    "\n",
    "crime_vc_points = crime_points.loc[crime_points['Year'].isin(['2018'])]\n",
    "\n",
    "crime_vc_points_map = crime_vc_points.plot(figsize=(10,10), markersize=1, c='orange', alpha=0.2) \n",
    "crime_vc_points_map.set_axis_off()\n",
    "crime_vc_points_map.set(title='Crime: Battery (2018)')"
   ]
  },
  {
   "cell_type": "code",
   "execution_count": null,
   "metadata": {},
   "outputs": [],
   "source": []
  },
  {
   "cell_type": "code",
   "execution_count": null,
   "metadata": {},
   "outputs": [],
   "source": []
  }
 ],
 "metadata": {
  "kernelspec": {
   "display_name": "Python 3",
   "language": "python",
   "name": "python3"
  },
  "language_info": {
   "codemirror_mode": {
    "name": "ipython",
    "version": 3
   },
   "file_extension": ".py",
   "mimetype": "text/x-python",
   "name": "python",
   "nbconvert_exporter": "python",
   "pygments_lexer": "ipython3",
   "version": "3.7.4"
  }
 },
 "nbformat": 4,
 "nbformat_minor": 4
}
