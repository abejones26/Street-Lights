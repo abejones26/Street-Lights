{
 "cells": [
  {
   "cell_type": "markdown",
   "metadata": {},
   "source": [
    "# Dependencies"
   ]
  },
  {
   "cell_type": "code",
   "execution_count": 14,
   "metadata": {},
   "outputs": [],
   "source": [
    "import pandas as pd\n",
    "import requests\n",
    "import json\n",
    "import numpy as np\n",
    "import matplotlib.pyplot as plt\n",
    "\n",
    "import datetime as dt\n",
    "import scipy.stats as sts\n",
    "import scipy.ndimage as ndimage\n",
    "\n",
    "\n",
    "from math import isnan\n",
    "from matplotlib.animation import FuncAnimation\n",
    "from matplotlib import animation, rc\n",
    "from Resources.config import app_token"
   ]
  },
  {
   "cell_type": "markdown",
   "metadata": {},
   "source": [
    "# Additional Depedencies which requires updating your environment"
   ]
  },
  {
   "cell_type": "code",
   "execution_count": 13,
   "metadata": {},
   "outputs": [],
   "source": [
    "import descartes\n",
    "import geopandas as gpd\n",
    "from geopandas import GeoDataFrame\n",
    "from shapely.geometry import Point, Polygon"
   ]
  },
  {
   "cell_type": "markdown",
   "metadata": {},
   "source": [
    "# Import Resources"
   ]
  },
  {
   "cell_type": "code",
   "execution_count": 15,
   "metadata": {},
   "outputs": [],
   "source": [
    "## Source: Crimes - 2001 to present\n",
    "## https://data.cityofchicago.org/Public-Safety/Crimes-2001-to-present/ijzp-q8t2\n",
    "url_crime_data = \"https://data.cityofchicago.org/resource/ijzp-q8t2.json\"\n",
    "date_filter=\"$WHERE=DATE BETWEEN '2014-01-01' AND '2018-12-31'\"\n",
    "crime_records_limit = 1000\n",
    "## Total # 1344565\n",
    "url_crime_data_with_filter = f\"{url_crime_data}?{date_filter}&$limit={crime_records_limit}&$$app_token={app_token}\"\n",
    "crime_data_json = requests.get(url_crime_data_with_filter).json()\n",
    "## Convert to pandas DataFrame\n",
    "crime_data_df = pd.DataFrame.from_records(crime_data_json)\n",
    "## drop extra columns. Optional\n",
    "#crime_data_df = crime_data_df.drop(['x_coordinate','y_coordinate','latitude','longitude','location'],axis=1)"
   ]
  },
  {
   "cell_type": "code",
   "execution_count": 16,
   "metadata": {},
   "outputs": [],
   "source": [
    "# Street Light Data Source from 2014-2018\n",
    "street_light_reports = \"Service_Requests_Street_Lights.csv\" \n",
    "\n",
    "# Read Street Light Data and store into Pandas data frame, add ability to read special chrarters\n",
    "street_light_reports_pd = pd.read_csv(street_light_reports,encoding= \"ISO-8859-1\")"
   ]
  },
  {
   "cell_type": "code",
   "execution_count": 17,
   "metadata": {},
   "outputs": [],
   "source": [
    "# Community Area Names Data Source \n",
    "community_area_names = \"CommAreas_20200108.csv\" \n",
    "\n",
    "# Read Community Area Names Data and store into Pandas data frame, add ability to read special characters\n",
    "community_area_names_pd = pd.read_csv(community_area_names,encoding= \"ISO-8859-1\")"
   ]
  },
  {
   "cell_type": "code",
   "execution_count": 18,
   "metadata": {},
   "outputs": [],
   "source": [
    "# Community Area Names Data Source \n",
    "pop_census_data = \"Pop-Census-Data-by-Chicago-Community-Area-2017.csv\" \n",
    "\n",
    "# Read Pop Census Data by Chicago Community and store into Pandas data frame.\n",
    "pop_census_data_pd = pd.read_csv(pop_census_data)"
   ]
  },
  {
   "cell_type": "markdown",
   "metadata": {},
   "source": [
    "# Data cleanup"
   ]
  },
  {
   "cell_type": "code",
   "execution_count": null,
   "metadata": {},
   "outputs": [],
   "source": [
    "#Data Cleanup - Rename Creation Date Column Because it Has Unnecessary Charaters in the CSV Field\n",
    "street_light_reports_pd = street_light_reports_pd.rename(columns={'ÈÀCreation Date': 'Creation Date'})\n",
    "\n",
    "# Add a Column for Year, Month, Day in Street Light Outage Data \n",
    "street_light_reports_pd['Year'] = pd.DatetimeIndex(street_light_reports_pd['Creation Date']).year\n",
    "street_light_reports_pd['Month'] = pd.DatetimeIndex(street_light_reports_pd['Creation Date']).month\n",
    "street_light_reports_pd['Day'] = pd.DatetimeIndex(street_light_reports_pd['Creation Date']).day\n",
    "\n",
    "#Filter Street Light data for everything greater than 2013 and less than 2019\n",
    "street_light_reports_pd=street_light_reports_pd.loc[(street_light_reports_pd['Year']>2013) & (street_light_reports_pd['Year']<2019)]\n",
    "street_light_reports_pd\n",
    "\n",
    "## Delete extra columns\n",
    "del street_light_reports_pd[\"Ward\", \"Police District\"]"
   ]
  },
  {
   "cell_type": "markdown",
   "metadata": {},
   "source": [
    "## Question 1 - Which Chicago neighborhoods have the most street light outages reported between 2014-2018?"
   ]
  },
  {
   "cell_type": "code",
   "execution_count": null,
   "metadata": {},
   "outputs": [],
   "source": []
  },
  {
   "cell_type": "markdown",
   "metadata": {},
   "source": [
    "## Question 2 - What address has the most street light outage reports? Which year had the most street light outage reports?"
   ]
  },
  {
   "cell_type": "code",
   "execution_count": null,
   "metadata": {},
   "outputs": [],
   "source": []
  },
  {
   "cell_type": "markdown",
   "metadata": {},
   "source": [
    "## Question 3 - Average time it takes for outages to get fixed per neighborhood?"
   ]
  },
  {
   "cell_type": "code",
   "execution_count": null,
   "metadata": {},
   "outputs": [],
   "source": []
  },
  {
   "cell_type": "markdown",
   "metadata": {},
   "source": [
    "## Question 4 - What are the crime rates/reports in neighborhoods with street light outages?"
   ]
  },
  {
   "cell_type": "code",
   "execution_count": null,
   "metadata": {},
   "outputs": [],
   "source": []
  }
 ],
 "metadata": {
  "kernelspec": {
   "display_name": "Python 3",
   "language": "python",
   "name": "python3"
  },
  "language_info": {
   "codemirror_mode": {
    "name": "ipython",
    "version": 3
   },
   "file_extension": ".py",
   "mimetype": "text/x-python",
   "name": "python",
   "nbconvert_exporter": "python",
   "pygments_lexer": "ipython3",
   "version": "3.7.4"
  }
 },
 "nbformat": 4,
 "nbformat_minor": 4
}
