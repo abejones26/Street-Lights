{
 "cells": [
  {
   "cell_type": "code",
   "execution_count": null,
   "metadata": {},
   "outputs": [],
   "source": [
    "## Question 3 - Average time it takes for outages to get fixed per neighborhood? (Alap)\n",
    "## 1. Use current boundaries\n",
    "## 2. Visuals: Average time per neighbourhood (bar chart or scatter chart, by year)\n",
    "## 3. Average time per month for all neighborhoods (Line Chart - 1 line per year)."
   ]
  },
  {
   "cell_type": "code",
   "execution_count": 1,
   "metadata": {},
   "outputs": [],
   "source": [
    "import pandas as pd\n",
    "import requests\n",
    "import json\n",
    "import numpy as np\n",
    "from Resources.config import app_token\n",
    "import matplotlib.pyplot as plt"
   ]
  },
  {
   "cell_type": "code",
   "execution_count": 2,
   "metadata": {},
   "outputs": [],
   "source": [
    "## Source: Crimes - 2001 to present\n",
    "## https://data.cityofchicago.org/Public-Safety/Crimes-2001-to-present/ijzp-q8t2\n",
    "# url_crime_data = \"https://data.cityofchicago.org/resource/ijzp-q8t2.json\"\n",
    "# date_filter=\"$WHERE=DATE BETWEEN '2014-01-01' AND '2018-12-31'\"\n",
    "# crime_records_limit = 1000\n",
    "## Total # 1344565\n",
    "# url_crime_data_with_filter = f\"{url_crime_data}?{date_filter}&$limit={crime_records_limit}&$$app_token={app_token}\"\n",
    "# crime_data_json = requests.get(url_crime_data_with_filter).json()\n",
    "# #print(json.dumps(crime_data_json, indent=4, sort_keys=True))\n",
    "\n",
    "# ## Convert to pandas DataFrame\n",
    "# crime_data_df = pd.DataFrame.from_records(crime_data_json)\n",
    "# ## drop extra columns\n",
    "# crime_data_df = crime_data_df.drop(['x_coordinate','y_coordinate','latitude','longitude','location'],axis=1)"
   ]
  },
  {
   "cell_type": "code",
   "execution_count": 3,
   "metadata": {},
   "outputs": [],
   "source": [
    "## Source: Boundaries - Community Areas (current)\n",
    "## https://data.cityofchicago.org/Facilities-Geographic-Boundaries/Boundaries-Community-Areas-current-/cauq-8yn6\n",
    "## Call to get data from city of chicago API in json format\n",
    "url_comm_area = \"https://data.cityofchicago.org/resource/igwz-8jzy.json\"\n",
    "field_filter = \"$select=community,area_numbe\"\n",
    "url_comm_area_with_filter = f\"{url_comm_area}?{field_filter}&$order=area_numbe&$$app_token={app_token}\"\n",
    "comm_data_json = requests.get(url_comm_area_with_filter).json()"
   ]
  },
  {
   "cell_type": "code",
   "execution_count": 4,
   "metadata": {},
   "outputs": [
    {
     "data": {
      "text/html": [
       "<div>\n",
       "<style scoped>\n",
       "    .dataframe tbody tr th:only-of-type {\n",
       "        vertical-align: middle;\n",
       "    }\n",
       "\n",
       "    .dataframe tbody tr th {\n",
       "        vertical-align: top;\n",
       "    }\n",
       "\n",
       "    .dataframe thead th {\n",
       "        text-align: right;\n",
       "    }\n",
       "</style>\n",
       "<table border=\"1\" class=\"dataframe\">\n",
       "  <thead>\n",
       "    <tr style=\"text-align: right;\">\n",
       "      <th></th>\n",
       "      <th>community</th>\n",
       "      <th>area_numbe</th>\n",
       "    </tr>\n",
       "  </thead>\n",
       "  <tbody>\n",
       "    <tr>\n",
       "      <td>0</td>\n",
       "      <td>ROGERS PARK</td>\n",
       "      <td>1</td>\n",
       "    </tr>\n",
       "    <tr>\n",
       "      <td>1</td>\n",
       "      <td>NORWOOD PARK</td>\n",
       "      <td>10</td>\n",
       "    </tr>\n",
       "    <tr>\n",
       "      <td>2</td>\n",
       "      <td>JEFFERSON PARK</td>\n",
       "      <td>11</td>\n",
       "    </tr>\n",
       "    <tr>\n",
       "      <td>3</td>\n",
       "      <td>FOREST GLEN</td>\n",
       "      <td>12</td>\n",
       "    </tr>\n",
       "    <tr>\n",
       "      <td>4</td>\n",
       "      <td>NORTH PARK</td>\n",
       "      <td>13</td>\n",
       "    </tr>\n",
       "    <tr>\n",
       "      <td>...</td>\n",
       "      <td>...</td>\n",
       "      <td>...</td>\n",
       "    </tr>\n",
       "    <tr>\n",
       "      <td>72</td>\n",
       "      <td>MORGAN PARK</td>\n",
       "      <td>75</td>\n",
       "    </tr>\n",
       "    <tr>\n",
       "      <td>73</td>\n",
       "      <td>OHARE</td>\n",
       "      <td>76</td>\n",
       "    </tr>\n",
       "    <tr>\n",
       "      <td>74</td>\n",
       "      <td>EDGEWATER</td>\n",
       "      <td>77</td>\n",
       "    </tr>\n",
       "    <tr>\n",
       "      <td>75</td>\n",
       "      <td>NEAR NORTH SIDE</td>\n",
       "      <td>8</td>\n",
       "    </tr>\n",
       "    <tr>\n",
       "      <td>76</td>\n",
       "      <td>EDISON PARK</td>\n",
       "      <td>9</td>\n",
       "    </tr>\n",
       "  </tbody>\n",
       "</table>\n",
       "<p>77 rows × 2 columns</p>\n",
       "</div>"
      ],
      "text/plain": [
       "          community  area_numbe\n",
       "0       ROGERS PARK           1\n",
       "1      NORWOOD PARK          10\n",
       "2    JEFFERSON PARK          11\n",
       "3       FOREST GLEN          12\n",
       "4        NORTH PARK          13\n",
       "..              ...         ...\n",
       "72      MORGAN PARK          75\n",
       "73            OHARE          76\n",
       "74        EDGEWATER          77\n",
       "75  NEAR NORTH SIDE           8\n",
       "76      EDISON PARK           9\n",
       "\n",
       "[77 rows x 2 columns]"
      ]
     },
     "execution_count": 4,
     "metadata": {},
     "output_type": "execute_result"
    }
   ],
   "source": [
    "## Convert to pandas DataFrame\n",
    "comm_data_df = pd.DataFrame.from_records(comm_data_json)\n",
    "## Convert area numbers to integer\n",
    "comm_data_df['area_numbe'] = pd.to_numeric(comm_data_df['area_numbe'],downcast='integer')\n",
    "comm_data_df"
   ]
  },
  {
   "cell_type": "code",
   "execution_count": 31,
   "metadata": {},
   "outputs": [],
   "source": [
    "## 311 Service Requests - Street Lights - All Out\n",
    "## https://data.cityofchicago.org/Service-Requests/311-Service-Requests-Street-Lights-All-Out-No-Dupl/756k-itxx\n",
    "## Call to get data from city of chicago API in json format\n",
    "url_service_requests = \"https://data.cityofchicago.org/resource/zuxi-7xem.json\"\n",
    "status_filter = \"$select=creation_date,status,completion_date,service_request_number,type_of_service_request,community_area&$where=creation_date between '2014-01-01' AND '2018-12-31'\"\n",
    "service_requests_limit = 100000\n",
    "## Total 97560\n",
    "url_service_requests_with_filter = f\"{url_service_requests}?{status_filter}&$limit={service_requests_limit}&$$app_token={app_token}\"\n",
    "service_requests_json = requests.get(url_service_requests_with_filter).json()"
   ]
  },
  {
   "cell_type": "code",
   "execution_count": 32,
   "metadata": {},
   "outputs": [],
   "source": [
    "## Convert to pandas DataFrame\n",
    "service_requests_df = pd.DataFrame.from_records(service_requests_json)\n",
    "## Drop rows with missing community area\n",
    "service_requests_df = service_requests_df.dropna(how=\"any\",subset=['community_area'])\n",
    "## Cast community_area to integer\n",
    "service_requests_df['community_area'] = pd.to_numeric(service_requests_df['community_area'],downcast='integer')\n",
    "#service_requests_df.astype({'community_area': 'int32','completion_date':'datetime64'}).dtypes\n",
    "service_requests_df['creation_year'] = pd.DatetimeIndex(service_requests_df['creation_date']).year\n",
    "service_requests_df['creation_month'] = pd.DatetimeIndex(service_requests_df['creation_date']).month"
   ]
  },
  {
   "cell_type": "code",
   "execution_count": 33,
   "metadata": {},
   "outputs": [],
   "source": [
    "## Join 2 tables to display community names.\n",
    "service_requests_by_community = pd.merge(service_requests_df, comm_data_df, left_on=\"community_area\", right_on=\"area_numbe\", how=\"left\")\n",
    "## Delete extra column\n",
    "del service_requests_by_community[\"area_numbe\"]\n",
    "## Calculate service requests resolution time after setting completion_date to current date if N/A\n",
    "service_requests_by_community['resolution_time(days)'] = (pd.to_datetime(service_requests_by_community['completion_date'].fillna(pd.datetime.now().date())) - pd.to_datetime(service_requests_by_community['creation_date'])).dt.days"
   ]
  },
  {
   "cell_type": "code",
   "execution_count": 34,
   "metadata": {},
   "outputs": [],
   "source": [
    "## Filter out rows where community_area = 0 OR service_request_number is duplicate \n",
    "service_requests_by_community = service_requests_by_community.loc[(service_requests_by_community['community_area']!=0)]\n",
    "service_requests_by_community = service_requests_by_community.drop_duplicates(subset=\"service_request_number\")"
   ]
  },
  {
   "cell_type": "code",
   "execution_count": 35,
   "metadata": {},
   "outputs": [
    {
     "data": {
      "text/html": [
       "<div>\n",
       "<style scoped>\n",
       "    .dataframe tbody tr th:only-of-type {\n",
       "        vertical-align: middle;\n",
       "    }\n",
       "\n",
       "    .dataframe tbody tr th {\n",
       "        vertical-align: top;\n",
       "    }\n",
       "\n",
       "    .dataframe thead th {\n",
       "        text-align: right;\n",
       "    }\n",
       "</style>\n",
       "<table border=\"1\" class=\"dataframe\">\n",
       "  <thead>\n",
       "    <tr style=\"text-align: right;\">\n",
       "      <th></th>\n",
       "      <th>creation_date</th>\n",
       "      <th>status</th>\n",
       "      <th>completion_date</th>\n",
       "      <th>service_request_number</th>\n",
       "      <th>type_of_service_request</th>\n",
       "      <th>community_area</th>\n",
       "      <th>creation_year</th>\n",
       "      <th>creation_month</th>\n",
       "      <th>community</th>\n",
       "      <th>resolution_time(days)</th>\n",
       "    </tr>\n",
       "  </thead>\n",
       "  <tbody>\n",
       "    <tr>\n",
       "      <td>8164</td>\n",
       "      <td>2014-02-27T00:00:00.000</td>\n",
       "      <td>Completed - Dup</td>\n",
       "      <td>2017-07-19T00:00:00.000</td>\n",
       "      <td>14-00287239</td>\n",
       "      <td>Street Lights - All/Out</td>\n",
       "      <td>37</td>\n",
       "      <td>2014</td>\n",
       "      <td>2</td>\n",
       "      <td>FULLER PARK</td>\n",
       "      <td>1238</td>\n",
       "    </tr>\n",
       "    <tr>\n",
       "      <td>6770</td>\n",
       "      <td>2014-02-22T00:00:00.000</td>\n",
       "      <td>Completed - Dup</td>\n",
       "      <td>2017-07-19T00:00:00.000</td>\n",
       "      <td>14-00255879</td>\n",
       "      <td>Street Lights - All/Out</td>\n",
       "      <td>72</td>\n",
       "      <td>2014</td>\n",
       "      <td>2</td>\n",
       "      <td>BEVERLY</td>\n",
       "      <td>1243</td>\n",
       "    </tr>\n",
       "    <tr>\n",
       "      <td>2230</td>\n",
       "      <td>2014-01-15T00:00:00.000</td>\n",
       "      <td>Completed - Dup</td>\n",
       "      <td>2017-07-19T00:00:00.000</td>\n",
       "      <td>14-00073793</td>\n",
       "      <td>Street Lights - All/Out</td>\n",
       "      <td>46</td>\n",
       "      <td>2014</td>\n",
       "      <td>1</td>\n",
       "      <td>SOUTH CHICAGO</td>\n",
       "      <td>1281</td>\n",
       "    </tr>\n",
       "    <tr>\n",
       "      <td>2076</td>\n",
       "      <td>2014-01-14T00:00:00.000</td>\n",
       "      <td>Completed - Dup</td>\n",
       "      <td>2017-07-19T00:00:00.000</td>\n",
       "      <td>14-00067581</td>\n",
       "      <td>Street Lights - All/Out</td>\n",
       "      <td>46</td>\n",
       "      <td>2014</td>\n",
       "      <td>1</td>\n",
       "      <td>SOUTH CHICAGO</td>\n",
       "      <td>1282</td>\n",
       "    </tr>\n",
       "    <tr>\n",
       "      <td>129</td>\n",
       "      <td>2014-01-02T00:00:00.000</td>\n",
       "      <td>Completed - Dup</td>\n",
       "      <td>2017-07-19T00:00:00.000</td>\n",
       "      <td>14-00008021</td>\n",
       "      <td>Street Lights - All/Out</td>\n",
       "      <td>28</td>\n",
       "      <td>2014</td>\n",
       "      <td>1</td>\n",
       "      <td>NEAR WEST SIDE</td>\n",
       "      <td>1294</td>\n",
       "    </tr>\n",
       "  </tbody>\n",
       "</table>\n",
       "</div>"
      ],
      "text/plain": [
       "                creation_date           status          completion_date  \\\n",
       "8164  2014-02-27T00:00:00.000  Completed - Dup  2017-07-19T00:00:00.000   \n",
       "6770  2014-02-22T00:00:00.000  Completed - Dup  2017-07-19T00:00:00.000   \n",
       "2230  2014-01-15T00:00:00.000  Completed - Dup  2017-07-19T00:00:00.000   \n",
       "2076  2014-01-14T00:00:00.000  Completed - Dup  2017-07-19T00:00:00.000   \n",
       "129   2014-01-02T00:00:00.000  Completed - Dup  2017-07-19T00:00:00.000   \n",
       "\n",
       "     service_request_number  type_of_service_request  community_area  \\\n",
       "8164            14-00287239  Street Lights - All/Out              37   \n",
       "6770            14-00255879  Street Lights - All/Out              72   \n",
       "2230            14-00073793  Street Lights - All/Out              46   \n",
       "2076            14-00067581  Street Lights - All/Out              46   \n",
       "129             14-00008021  Street Lights - All/Out              28   \n",
       "\n",
       "      creation_year  creation_month       community  resolution_time(days)  \n",
       "8164           2014               2     FULLER PARK                   1238  \n",
       "6770           2014               2         BEVERLY                   1243  \n",
       "2230           2014               1   SOUTH CHICAGO                   1281  \n",
       "2076           2014               1   SOUTH CHICAGO                   1282  \n",
       "129            2014               1  NEAR WEST SIDE                   1294  "
      ]
     },
     "execution_count": 35,
     "metadata": {},
     "output_type": "execute_result"
    }
   ],
   "source": [
    "## Longest time to fix outages\n",
    "service_requests_by_community.sort_values(by=\"resolution_time(days)\").tail()"
   ]
  },
  {
   "cell_type": "code",
   "execution_count": 9,
   "metadata": {},
   "outputs": [
    {
     "data": {
      "text/plain": [
       "community        creation_year\n",
       "OHARE            2018             44.808511\n",
       "LOOP             2018             37.626866\n",
       "NEAR SOUTH SIDE  2018             34.532468\n",
       "HEGEWISCH        2018             33.378788\n",
       "FULLER PARK      2014             28.800000\n",
       "                                    ...    \n",
       "LINCOLN SQUARE   2017              2.172619\n",
       "UPTOWN           2017              2.147727\n",
       "NORTH CENTER     2017              2.137500\n",
       "ARMOUR SQUARE    2018              2.017544\n",
       "BRIDGEPORT       2017              1.789474\n",
       "Name: resolution_time(days), Length: 385, dtype: float64"
      ]
     },
     "execution_count": 9,
     "metadata": {},
     "output_type": "execute_result"
    }
   ],
   "source": [
    "service_requests_by_community_average_time = service_requests_by_community.groupby([\"community\",\"creation_year\"])[\"resolution_time(days)\"].mean()\n",
    "#service_requests_by_community_average_time = pd.merge(service_requests_by_community_average_time, comm_data_df, left_on=\"community_area\", right_on=\"area_numbe\", how=\"left\")\n",
    "service_requests_by_community_average_time.sort_values(ascending=False)"
   ]
  },
  {
   "cell_type": "code",
   "execution_count": 10,
   "metadata": {},
   "outputs": [],
   "source": [
    "service_requests_by_community_average_time = pd.DataFrame(service_requests_by_community_average_time).reset_index()"
   ]
  },
  {
   "cell_type": "code",
   "execution_count": null,
   "metadata": {},
   "outputs": [],
   "source": [
    "service_requests_by_community_average_time_2014 = service_requests_by_community_average_time.loc[service_requests_by_community_average_time[\"creation_year\"] == 2014].sort_values(by=\"resolution_time(days)\",ascending=False)\n",
    "service_requests_by_community_average_time_2015 = service_requests_by_community_average_time.loc[service_requests_by_community_average_time[\"creation_year\"] == 2015].sort_values(by=\"resolution_time(days)\",ascending=False)\n",
    "service_requests_by_community_average_time_2016 = service_requests_by_community_average_time.loc[service_requests_by_community_average_time[\"creation_year\"] == 2016].sort_values(by=\"resolution_time(days)\",ascending=False)\n",
    "service_requests_by_community_average_time_2017 = service_requests_by_community_average_time.loc[service_requests_by_community_average_time[\"creation_year\"] == 2017].sort_values(by=\"resolution_time(days)\",ascending=False)\n",
    "service_requests_by_community_average_time_2018 = service_requests_by_community_average_time.loc[service_requests_by_community_average_time[\"creation_year\"] == 2018].sort_values(by=\"resolution_time(days)\",ascending=False)\n"
   ]
  },
  {
   "cell_type": "code",
   "execution_count": null,
   "metadata": {},
   "outputs": [],
   "source": [
    "average_time_chart_2014 = service_requests_by_community_average_time_2014.plot.bar(y='resolution_time(days)', x='community', label=\"Outage Resolution Time(in days)\",alpha=0.5, align=\"center\", color=\"green\", rot=90, figsize=(30,5), title=\"Average Time to fix - 2014\")\n",
    "plt.savefig(\"Charts/average_time_chart_2014.png\", bbox_inches = 'tight')\n",
    "average_time_chart_2015 = service_requests_by_community_average_time_2015.plot.bar(y='resolution_time(days)', x='community', label=\"Outage Resolution Time(in days)\", alpha=0.5, align=\"center\", color=\"blue\", rot=90, figsize=(30,5), title=\"Average Time to fix - 2015\")\n",
    "plt.savefig(\"Charts/average_time_chart_2015.png\", bbox_inches = 'tight')\n",
    "average_time_chart_2016 = service_requests_by_community_average_time_2016.plot.bar(y='resolution_time(days)', x='community', label=\"Outage Resolution Time(in days)\", alpha=0.5, align=\"center\", color=\"red\", rot=90, figsize=(30,5), title=\"Average Time to fix - 2016\")\n",
    "plt.savefig(\"Charts/average_time_chart_2016.png\", bbox_inches = 'tight')\n",
    "average_time_chart_2017 = service_requests_by_community_average_time_2017.plot.bar(y='resolution_time(days)', x='community', label=\"Outage Resolution Time(in days)\", alpha=0.7, align=\"center\", color=\"blue\", rot=90, figsize=(30,5), title=\"Average Time to fix - 2017\")\n",
    "plt.savefig(\"Charts/average_time_chart_2017.png\", bbox_inches = 'tight')\n",
    "average_time_chart_2018 = service_requests_by_community_average_time_2018.plot.bar(y='resolution_time(days)', x='community', label=\"Outage Resolution Time(in days)\", alpha=0.7, align=\"center\", color=\"green\", rot=90, figsize=(30,5), title=\"Average Time to fix - 2018\")\n",
    "plt.savefig(\"Charts/average_time_chart_2018.png\", bbox_inches = 'tight')"
   ]
  },
  {
   "cell_type": "code",
   "execution_count": null,
   "metadata": {},
   "outputs": [],
   "source": []
  }
 ],
 "metadata": {
  "kernelspec": {
   "display_name": "Python 3",
   "language": "python",
   "name": "python3"
  },
  "language_info": {
   "codemirror_mode": {
    "name": "ipython",
    "version": 3
   },
   "file_extension": ".py",
   "mimetype": "text/x-python",
   "name": "python",
   "nbconvert_exporter": "python",
   "pygments_lexer": "ipython3",
   "version": "3.7.4"
  }
 },
 "nbformat": 4,
 "nbformat_minor": 4
}
