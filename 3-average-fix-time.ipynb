{
 "cells": [
  {
   "cell_type": "code",
   "execution_count": null,
   "metadata": {},
   "outputs": [],
   "source": [
    "## Question 3 - Average time it takes for outages to get fixed per neighborhood? (Alap)\n",
    "## 1. Use current boundaries\n",
    "## 2. Visuals: Average time per neighbourhood (bar chart or scatter chart, by year)\n",
    "## 3. Average time per month for all neighborhoods (Line Chart - 1 line per year)."
   ]
  },
  {
   "cell_type": "code",
   "execution_count": null,
   "metadata": {},
   "outputs": [],
   "source": [
    "import pandas as pd\n",
    "import requests\n",
    "import json\n",
    "import numpy as np\n",
    "from Resources.config import app_token\n",
    "import matplotlib.pyplot as plt"
   ]
  },
  {
   "cell_type": "code",
   "execution_count": null,
   "metadata": {},
   "outputs": [],
   "source": [
    "## Source: Crimes - 2001 to present\n",
    "## https://data.cityofchicago.org/Public-Safety/Crimes-2001-to-present/ijzp-q8t2\n",
    "url_crime_data = \"https://data.cityofchicago.org/resource/ijzp-q8t2.json\"\n",
    "date_filter=\"$WHERE=DATE BETWEEN '2014-01-01' AND '2018-12-31'\"\n",
    "crime_records_limit = 1000\n",
    "## Total # 1344565\n",
    "url_crime_data_with_filter = f\"{url_crime_data}?{date_filter}&$limit={crime_records_limit}&$$app_token={app_token}\"\n",
    "crime_data_json = requests.get(url_crime_data_with_filter).json()\n",
    "#print(json.dumps(crime_data_json, indent=4, sort_keys=True))"
   ]
  },
  {
   "cell_type": "code",
   "execution_count": null,
   "metadata": {},
   "outputs": [],
   "source": [
    "## Convert to pandas DataFrame\n",
    "crime_data_df = pd.DataFrame.from_records(crime_data_json)\n",
    "## drop extra columns\n",
    "crime_data_df = crime_data_df.drop(['x_coordinate','y_coordinate','latitude','longitude','location'],axis=1)"
   ]
  },
  {
   "cell_type": "code",
   "execution_count": null,
   "metadata": {},
   "outputs": [],
   "source": [
    "## Source: Boundaries - Community Areas (current)\n",
    "## https://data.cityofchicago.org/Facilities-Geographic-Boundaries/Boundaries-Community-Areas-current-/cauq-8yn6\n",
    "## Call to get data from city of chicago API in json format\n",
    "url_comm_area = \"https://data.cityofchicago.org/resource/igwz-8jzy.json\"\n",
    "field_filter = \"$select=community,area_numbe\"\n",
    "url_comm_area_with_filter = f\"{url_comm_area}?{field_filter}&$order=area_numbe&$$app_token={app_token}\"\n",
    "comm_data_json = requests.get(url_comm_area_with_filter).json()"
   ]
  },
  {
   "cell_type": "code",
   "execution_count": null,
   "metadata": {},
   "outputs": [],
   "source": [
    "## Convert to pandas DataFrame\n",
    "comm_data_df = pd.DataFrame.from_records(comm_data_json)\n",
    "## Convert area numbers to integer\n",
    "comm_data_df['area_numbe'] = pd.to_numeric(comm_data_df['area_numbe'],downcast='integer')\n",
    "comm_data_df"
   ]
  },
  {
   "cell_type": "code",
   "execution_count": null,
   "metadata": {},
   "outputs": [],
   "source": [
    "## 311 Service Requests - Street Lights - All Out\n",
    "## https://data.cityofchicago.org/Service-Requests/311-Service-Requests-Street-Lights-All-Out-No-Dupl/756k-itxx\n",
    "## Call to get data from city of chicago API in json format\n",
    "url_service_requests = \"https://data.cityofchicago.org/resource/zuxi-7xem.json\"\n",
    "status_filter = \"$select=creation_date,status,completion_date,service_request_number,type_of_service_request,community_area&$where=creation_date between '2014-01-01' AND '2018-12-31'\"\n",
    "service_requests_limit = 100000\n",
    "## Total 97560\n",
    "url_service_requests_with_filter = f\"{url_service_requests}?{status_filter}&$limit={service_requests_limit}&$$app_token={app_token}\"\n",
    "service_requests_json = requests.get(url_service_requests_with_filter).json()"
   ]
  },
  {
   "cell_type": "code",
   "execution_count": null,
   "metadata": {},
   "outputs": [],
   "source": [
    "## Convert to pandas DataFrame\n",
    "service_requests_df = pd.DataFrame.from_records(service_requests_json)\n",
    "## Drop rows with missing community area\n",
    "service_requests_df = service_requests_df.dropna(how=\"any\",subset=['community_area'])\n",
    "## Cast community_area to integer\n",
    "service_requests_df['community_area'] = pd.to_numeric(service_requests_df['community_area'],downcast='integer')\n",
    "#service_requests_df.astype({'community_area': 'int32','completion_date':'datetime64'}).dtypes\n",
    "service_requests_df['creation_year'] = pd.DatetimeIndex(service_requests_df['creation_date']).year\n",
    "service_requests_df['creation_month'] = pd.DatetimeIndex(service_requests_df['creation_date']).month"
   ]
  },
  {
   "cell_type": "code",
   "execution_count": null,
   "metadata": {},
   "outputs": [],
   "source": [
    "## Join 2 tables to display community names.\n",
    "service_requests_by_community = pd.merge(service_requests_df, comm_data_df, left_on=\"community_area\", right_on=\"area_numbe\", how=\"left\")\n",
    "## Delete extra column\n",
    "del service_requests_by_community[\"area_numbe\"]\n",
    "## Calculate service requests resolution time after setting completion_date to current date if N/A\n",
    "service_requests_by_community['resolution_time(days)'] = (pd.to_datetime(service_requests_by_community['completion_date'].fillna(pd.datetime.now().date())) - pd.to_datetime(service_requests_by_community['creation_date'])).dt.days\n",
    "service_requests_by_community"
   ]
  },
  {
   "cell_type": "code",
   "execution_count": null,
   "metadata": {},
   "outputs": [],
   "source": [
    "## Filter out rows where community_area = 0 OR service_request_number is duplicate \n",
    "service_requests_by_community = service_requests_by_community.loc[(service_requests_by_community['community_area']!=0)]\n",
    "service_requests_by_community = service_requests_by_community.drop_duplicates(subset=\"service_request_number\")"
   ]
  },
  {
   "cell_type": "code",
   "execution_count": null,
   "metadata": {},
   "outputs": [],
   "source": [
    "service_requests_by_community_average_time = service_requests_by_community.groupby([\"community\",\"creation_year\"])[\"resolution_time(days)\"].mean()\n",
    "#service_requests_by_community_average_time = pd.merge(service_requests_by_community_average_time, comm_data_df, left_on=\"community_area\", right_on=\"area_numbe\", how=\"left\")\n",
    "service_requests_by_community_average_time.sort_values(ascending=False)"
   ]
  },
  {
   "cell_type": "code",
   "execution_count": null,
   "metadata": {},
   "outputs": [],
   "source": [
    "service_requests_by_community_average_time = pd.DataFrame(service_requests_by_community_average_time).reset_index()"
   ]
  },
  {
   "cell_type": "code",
   "execution_count": null,
   "metadata": {},
   "outputs": [],
   "source": [
    "service_requests_by_community_average_time_2014 = service_requests_by_community_average_time.loc[service_requests_by_community_average_time[\"creation_year\"] == 2014].sort_values(by=\"resolution_time(days)\",ascending=False)\n",
    "service_requests_by_community_average_time_2015 = service_requests_by_community_average_time.loc[service_requests_by_community_average_time[\"creation_year\"] == 2015].sort_values(by=\"resolution_time(days)\",ascending=False)\n",
    "service_requests_by_community_average_time_2016 = service_requests_by_community_average_time.loc[service_requests_by_community_average_time[\"creation_year\"] == 2016].sort_values(by=\"resolution_time(days)\",ascending=False)\n",
    "service_requests_by_community_average_time_2017 = service_requests_by_community_average_time.loc[service_requests_by_community_average_time[\"creation_year\"] == 2017].sort_values(by=\"resolution_time(days)\",ascending=False)\n",
    "service_requests_by_community_average_time_2018 = service_requests_by_community_average_time.loc[service_requests_by_community_average_time[\"creation_year\"] == 2018].sort_values(by=\"resolution_time(days)\",ascending=False)\n"
   ]
  },
  {
   "cell_type": "code",
   "execution_count": null,
   "metadata": {},
   "outputs": [],
   "source": [
    "average_time_chart_2014 = service_requests_by_community_average_time_2014.plot.bar(y='resolution_time(days)', x='community', alpha=0.5, align=\"center\", color=\"green\", rot=90, figsize=(30,5), title=\"Average Time to fix - 2014\")\n",
    "plt.savefig(\"Charts/average_time_chart_2014.png\", bbox_inches = 'tight')\n",
    "average_time_chart_2015 = service_requests_by_community_average_time_2015.plot.bar(y='resolution_time(days)', x='community', alpha=0.5, align=\"center\", color=\"blue\", rot=90, figsize=(30,5), title=\"Average Time to fix - 2015\")\n",
    "plt.savefig(\"Charts/average_time_chart_2015.png\", bbox_inches = 'tight')\n",
    "average_time_chart_2016 = service_requests_by_community_average_time_2016.plot.bar(y='resolution_time(days)', x='community', alpha=0.5, align=\"center\", color=\"red\", rot=90, figsize=(30,5), title=\"Average Time to fix - 2016\")\n",
    "plt.savefig(\"Charts/average_time_chart_2016.png\", bbox_inches = 'tight')\n",
    "average_time_chart_2017 = service_requests_by_community_average_time_2017.plot.bar(y='resolution_time(days)', x='community', alpha=0.7, align=\"center\", color=\"blue\", rot=90, figsize=(30,5), title=\"Average Time to fix - 2017\")\n",
    "plt.savefig(\"Charts/average_time_chart_2017.png\", bbox_inches = 'tight')\n",
    "average_time_chart_2018 = service_requests_by_community_average_time_2018.plot.bar(y='resolution_time(days)', x='community', alpha=0.7, align=\"center\", color=\"green\", rot=90, figsize=(30,5), title=\"Average Time to fix - 2018\")\n",
    "plt.savefig(\"Charts/average_time_chart_2018.png\", bbox_inches = 'tight')"
   ]
  }
 ],
 "metadata": {
  "kernelspec": {
   "display_name": "Python 3",
   "language": "python",
   "name": "python3"
  },
  "language_info": {
   "codemirror_mode": {
    "name": "ipython",
    "version": 3
   },
   "file_extension": ".py",
   "mimetype": "text/x-python",
   "name": "python",
   "nbconvert_exporter": "python",
   "pygments_lexer": "ipython3",
   "version": "3.7.4"
  }
 },
 "nbformat": 4,
 "nbformat_minor": 4
}
