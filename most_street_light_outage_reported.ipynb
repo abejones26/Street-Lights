{
 "cells": [
  {
   "cell_type": "code",
   "execution_count": 2,
   "metadata": {},
   "outputs": [],
   "source": [
    "#Importing Dependencies\n",
    "import matplotlib.pyplot as plt\n",
    "import pandas as pd\n",
    "import numpy as np"
   ]
  },
  {
   "cell_type": "code",
   "execution_count": 3,
   "metadata": {},
   "outputs": [],
   "source": [
    "#Import CSV\n",
    "srsl_csv = \"C:\\\\Users\\\\abrah\\project_1\\\\Service_Requests_Street_Lights.csv\"\n",
    "srsl_df = pd.read_csv(srsl_csv, encoding=\"ISO-8859-1\")\n",
    "\n",
    "#Renaming column \" ÈÀCreation Date\" to \"Creation Date\" into the same varialbe\n",
    "srsl_df = srsl_df.rename(columns={\"ÈÀCreation Date\":\"Creation Date\"})\n",
    "\n",
    "# Adding new columns for Year, Month and Day using pd.DatetimeIndex.\n",
    "# I noticed even with Pandas the csv took a while to load...\n",
    "srsl_df['Year'] = pd.DatetimeIndex(srsl_df['Creation Date']).year\n",
    "srsl_df['Month'] = pd.DatetimeIndex(srsl_df['Creation Date']).month\n",
    "srsl_df['Day'] = pd.DatetimeIndex(srsl_df['Creation Date']).day\n",
    "\n",
    "# Applying filter for year date range 2014 to 2018\n",
    "srsl_df = srsl_df.loc[(srsl_df['Year']>2013) & (srsl_df['Year']<2019)]"
   ]
  },
  {
   "cell_type": "code",
   "execution_count": 4,
   "metadata": {
    "scrolled": true
   },
   "outputs": [],
   "source": [
    "# Filtering for the column that I will be usings\n",
    "srsl_df = srsl_df[['Service Request Number', 'Type of Service Request', 'Street Address', 'ZIP Code', 'Community Area','Latitude', 'Longitude', 'Year', 'Month', 'Day']]"
   ]
  },
  {
   "cell_type": "code",
   "execution_count": 5,
   "metadata": {},
   "outputs": [
    {
     "data": {
      "image/png": "[encoded data removed]",
      "text/plain": [
       "<Figure size 432x288 with 1 Axes>"
      ]
     },
     "metadata": {
      "needs_background": "light"
     },
     "output_type": "display_data"
    }
   ],
   "source": [
    "# Find the most service requests by year\n",
    "most_by_year = srsl_df.groupby([\"Year\"])\n",
    "most_by_year = most_by_year[\"Service Request Number\"].count()\n",
    "most_by_year = pd.DataFrame(most_by_year)\n",
    "service_chart = most_by_year.plot(kind='bar', legend=0)\n",
    "service_chart.set_ylabel(\"Number of Service Request\")\n",
    "service_chart.set_title(\"Total Number of Service Request Per Year\")\n",
    "plt.savefig(\"Total Number of Service Request Per Year\")"
   ]
  },
  {
   "cell_type": "code",
   "execution_count": 6,
   "metadata": {},
   "outputs": [
    {
     "data": {
      "text/html": [
       "<div>\n",
       "<style scoped>\n",
       "    .dataframe tbody tr th:only-of-type {\n",
       "        vertical-align: middle;\n",
       "    }\n",
       "\n",
       "    .dataframe tbody tr th {\n",
       "        vertical-align: top;\n",
       "    }\n",
       "\n",
       "    .dataframe thead th {\n",
       "        text-align: right;\n",
       "    }\n",
       "</style>\n",
       "<table border=\"1\" class=\"dataframe\">\n",
       "  <thead>\n",
       "    <tr style=\"text-align: right;\">\n",
       "      <th></th>\n",
       "      <th>Service Request Number</th>\n",
       "    </tr>\n",
       "    <tr>\n",
       "      <th>Year</th>\n",
       "      <th></th>\n",
       "    </tr>\n",
       "  </thead>\n",
       "  <tbody>\n",
       "    <tr>\n",
       "      <td>2014</td>\n",
       "      <td>16587</td>\n",
       "    </tr>\n",
       "    <tr>\n",
       "      <td>2015</td>\n",
       "      <td>14756</td>\n",
       "    </tr>\n",
       "    <tr>\n",
       "      <td>2016</td>\n",
       "      <td>14918</td>\n",
       "    </tr>\n",
       "    <tr>\n",
       "      <td>2017</td>\n",
       "      <td>12729</td>\n",
       "    </tr>\n",
       "    <tr>\n",
       "      <td>2018</td>\n",
       "      <td>14552</td>\n",
       "    </tr>\n",
       "  </tbody>\n",
       "</table>\n",
       "</div>"
      ],
      "text/plain": [
       "      Service Request Number\n",
       "Year                        \n",
       "2014                   16587\n",
       "2015                   14756\n",
       "2016                   14918\n",
       "2017                   12729\n",
       "2018                   14552"
      ]
     },
     "execution_count": 6,
     "metadata": {},
     "output_type": "execute_result"
    }
   ],
   "source": [
    "most_by_year"
   ]
  },
  {
   "cell_type": "code",
   "execution_count": 10,
   "metadata": {
    "scrolled": true
   },
   "outputs": [
    {
     "data": {
      "text/html": [
       "<div>\n",
       "<style scoped>\n",
       "    .dataframe tbody tr th:only-of-type {\n",
       "        vertical-align: middle;\n",
       "    }\n",
       "\n",
       "    .dataframe tbody tr th {\n",
       "        vertical-align: top;\n",
       "    }\n",
       "\n",
       "    .dataframe thead th {\n",
       "        text-align: right;\n",
       "    }\n",
       "</style>\n",
       "<table border=\"1\" class=\"dataframe\">\n",
       "  <thead>\n",
       "    <tr style=\"text-align: right;\">\n",
       "      <th></th>\n",
       "      <th></th>\n",
       "      <th>Total</th>\n",
       "    </tr>\n",
       "    <tr>\n",
       "      <th>Year</th>\n",
       "      <th>Street Address</th>\n",
       "      <th></th>\n",
       "    </tr>\n",
       "  </thead>\n",
       "  <tbody>\n",
       "    <tr>\n",
       "      <td>2014</td>\n",
       "      <td>12500 S PRINCETON AVE</td>\n",
       "      <td>13</td>\n",
       "    </tr>\n",
       "  </tbody>\n",
       "</table>\n",
       "</div>"
      ],
      "text/plain": [
       "                            Total\n",
       "Year Street Address              \n",
       "2014 12500 S PRINCETON AVE     13"
      ]
     },
     "execution_count": 10,
     "metadata": {},
     "output_type": "execute_result"
    }
   ],
   "source": [
    "# Using value_counts to solve for the address with the most Service Requests\n",
    "# Finding the total of service requests by year\n",
    "srsl_2014 = srsl_df.loc[(srsl_df['Year']==2014)]\n",
    "srsl_gb_2014 = srsl_2014.groupby('Year')['Street Address'].value_counts()\n",
    "srsl_gb_2014 = pd.DataFrame(srsl_gb_2014)\n",
    "srsl_gb_2014 = srsl_gb_2014.rename(columns={'Street Address': 'Total'})\n",
    "most_request_2014 = srsl_gb_2014.head(1)\n",
    "most_request_2014"
   ]
  },
  {
   "cell_type": "code",
   "execution_count": 11,
   "metadata": {},
   "outputs": [
    {
     "data": {
      "text/html": [
       "<div>\n",
       "<style scoped>\n",
       "    .dataframe tbody tr th:only-of-type {\n",
       "        vertical-align: middle;\n",
       "    }\n",
       "\n",
       "    .dataframe tbody tr th {\n",
       "        vertical-align: top;\n",
       "    }\n",
       "\n",
       "    .dataframe thead th {\n",
       "        text-align: right;\n",
       "    }\n",
       "</style>\n",
       "<table border=\"1\" class=\"dataframe\">\n",
       "  <thead>\n",
       "    <tr style=\"text-align: right;\">\n",
       "      <th></th>\n",
       "      <th></th>\n",
       "      <th>Total</th>\n",
       "    </tr>\n",
       "    <tr>\n",
       "      <th>Year</th>\n",
       "      <th>Street Address</th>\n",
       "      <th></th>\n",
       "    </tr>\n",
       "  </thead>\n",
       "  <tbody>\n",
       "    <tr>\n",
       "      <td>2015</td>\n",
       "      <td>13500 S INDIANA AVE</td>\n",
       "      <td>9</td>\n",
       "    </tr>\n",
       "  </tbody>\n",
       "</table>\n",
       "</div>"
      ],
      "text/plain": [
       "                          Total\n",
       "Year Street Address            \n",
       "2015 13500 S INDIANA AVE      9"
      ]
     },
     "execution_count": 11,
     "metadata": {},
     "output_type": "execute_result"
    }
   ],
   "source": [
    "srsl_2015 = srsl_df.loc[(srsl_df['Year']==2015)]\n",
    "srsl_gb_2015 = srsl_2015.groupby('Year')['Street Address'].value_counts()\n",
    "srsl_gb_2015 = pd.DataFrame(srsl_gb_2015)\n",
    "srsl_gb_2015 = srsl_gb_2015.rename(columns={'Street Address': 'Total'})\n",
    "most_request_2015 = srsl_gb_2015.head(1)\n",
    "most_request_2015"
   ]
  },
  {
   "cell_type": "code",
   "execution_count": 12,
   "metadata": {},
   "outputs": [
    {
     "data": {
      "text/html": [
       "<div>\n",
       "<style scoped>\n",
       "    .dataframe tbody tr th:only-of-type {\n",
       "        vertical-align: middle;\n",
       "    }\n",
       "\n",
       "    .dataframe tbody tr th {\n",
       "        vertical-align: top;\n",
       "    }\n",
       "\n",
       "    .dataframe thead th {\n",
       "        text-align: right;\n",
       "    }\n",
       "</style>\n",
       "<table border=\"1\" class=\"dataframe\">\n",
       "  <thead>\n",
       "    <tr style=\"text-align: right;\">\n",
       "      <th></th>\n",
       "      <th></th>\n",
       "      <th>Total</th>\n",
       "    </tr>\n",
       "    <tr>\n",
       "      <th>Year</th>\n",
       "      <th>Street Address</th>\n",
       "      <th></th>\n",
       "    </tr>\n",
       "  </thead>\n",
       "  <tbody>\n",
       "    <tr>\n",
       "      <td>2016</td>\n",
       "      <td>1000 N LAKE SHORE DR</td>\n",
       "      <td>6</td>\n",
       "    </tr>\n",
       "  </tbody>\n",
       "</table>\n",
       "</div>"
      ],
      "text/plain": [
       "                           Total\n",
       "Year Street Address             \n",
       "2016 1000 N LAKE SHORE DR      6"
      ]
     },
     "execution_count": 12,
     "metadata": {},
     "output_type": "execute_result"
    }
   ],
   "source": [
    "srsl_2016 = srsl_df.loc[(srsl_df['Year']==2016)]\n",
    "srsl_gb_2016 = srsl_2016.groupby('Year')['Street Address'].value_counts()\n",
    "srsl_gb_2016 = pd.DataFrame(srsl_gb_2016)\n",
    "srsl_gb_2016 = srsl_gb_2016.rename(columns={'Street Address': 'Total'})\n",
    "most_request_2016 = srsl_gb_2016.head(1)\n",
    "most_request_2016"
   ]
  },
  {
   "cell_type": "code",
   "execution_count": 13,
   "metadata": {},
   "outputs": [
    {
     "data": {
      "text/html": [
       "<div>\n",
       "<style scoped>\n",
       "    .dataframe tbody tr th:only-of-type {\n",
       "        vertical-align: middle;\n",
       "    }\n",
       "\n",
       "    .dataframe tbody tr th {\n",
       "        vertical-align: top;\n",
       "    }\n",
       "\n",
       "    .dataframe thead th {\n",
       "        text-align: right;\n",
       "    }\n",
       "</style>\n",
       "<table border=\"1\" class=\"dataframe\">\n",
       "  <thead>\n",
       "    <tr style=\"text-align: right;\">\n",
       "      <th></th>\n",
       "      <th></th>\n",
       "      <th>Total</th>\n",
       "    </tr>\n",
       "    <tr>\n",
       "      <th>Year</th>\n",
       "      <th>Street Address</th>\n",
       "      <th></th>\n",
       "    </tr>\n",
       "  </thead>\n",
       "  <tbody>\n",
       "    <tr>\n",
       "      <td>2017</td>\n",
       "      <td>3200 W AUGUSTA BLVD</td>\n",
       "      <td>7</td>\n",
       "    </tr>\n",
       "  </tbody>\n",
       "</table>\n",
       "</div>"
      ],
      "text/plain": [
       "                          Total\n",
       "Year Street Address            \n",
       "2017 3200 W AUGUSTA BLVD      7"
      ]
     },
     "execution_count": 13,
     "metadata": {},
     "output_type": "execute_result"
    }
   ],
   "source": [
    "srsl_2017 = srsl_df.loc[(srsl_df['Year']==2017)]\n",
    "srsl_gb_2017 = srsl_2017.groupby('Year')['Street Address'].value_counts()\n",
    "srsl_gb_2017 = pd.DataFrame(srsl_gb_2017)\n",
    "srsl_gb_2017 = srsl_gb_2017.rename(columns={'Street Address': 'Total'})\n",
    "most_request_2017 = srsl_gb_2017.head(1)\n",
    "most_request_2017"
   ]
  },
  {
   "cell_type": "code",
   "execution_count": 14,
   "metadata": {},
   "outputs": [
    {
     "data": {
      "text/html": [
       "<div>\n",
       "<style scoped>\n",
       "    .dataframe tbody tr th:only-of-type {\n",
       "        vertical-align: middle;\n",
       "    }\n",
       "\n",
       "    .dataframe tbody tr th {\n",
       "        vertical-align: top;\n",
       "    }\n",
       "\n",
       "    .dataframe thead th {\n",
       "        text-align: right;\n",
       "    }\n",
       "</style>\n",
       "<table border=\"1\" class=\"dataframe\">\n",
       "  <thead>\n",
       "    <tr style=\"text-align: right;\">\n",
       "      <th></th>\n",
       "      <th></th>\n",
       "      <th>Total</th>\n",
       "    </tr>\n",
       "    <tr>\n",
       "      <th>Year</th>\n",
       "      <th>Street Address</th>\n",
       "      <th></th>\n",
       "    </tr>\n",
       "  </thead>\n",
       "  <tbody>\n",
       "    <tr>\n",
       "      <td>2018</td>\n",
       "      <td>3547 N ALBANY AVE</td>\n",
       "      <td>9</td>\n",
       "    </tr>\n",
       "  </tbody>\n",
       "</table>\n",
       "</div>"
      ],
      "text/plain": [
       "                        Total\n",
       "Year Street Address          \n",
       "2018 3547 N ALBANY AVE      9"
      ]
     },
     "execution_count": 14,
     "metadata": {},
     "output_type": "execute_result"
    }
   ],
   "source": [
    "srsl_2018 = srsl_df.loc[(srsl_df['Year']==2018)]\n",
    "srsl_gb_2018 = srsl_2018.groupby('Year')['Street Address'].value_counts()\n",
    "srsl_gb_2018 = pd.DataFrame(srsl_gb_2018)\n",
    "srsl_gb_2018 = srsl_gb_2018.rename(columns={'Street Address': 'Total'})\n",
    "most_request_2018 = srsl_gb_2018.head(1)\n",
    "most_request_2018 "
   ]
  },
  {
   "cell_type": "code",
   "execution_count": 15,
   "metadata": {},
   "outputs": [
    {
     "data": {
      "text/html": [
       "<div>\n",
       "<style scoped>\n",
       "    .dataframe tbody tr th:only-of-type {\n",
       "        vertical-align: middle;\n",
       "    }\n",
       "\n",
       "    .dataframe tbody tr th {\n",
       "        vertical-align: top;\n",
       "    }\n",
       "\n",
       "    .dataframe thead th {\n",
       "        text-align: right;\n",
       "    }\n",
       "</style>\n",
       "<table border=\"1\" class=\"dataframe\">\n",
       "  <thead>\n",
       "    <tr style=\"text-align: right;\">\n",
       "      <th></th>\n",
       "      <th></th>\n",
       "      <th>Total</th>\n",
       "    </tr>\n",
       "    <tr>\n",
       "      <th>Year</th>\n",
       "      <th>Street Address</th>\n",
       "      <th></th>\n",
       "    </tr>\n",
       "  </thead>\n",
       "  <tbody>\n",
       "    <tr>\n",
       "      <td>2014</td>\n",
       "      <td>12500 S PRINCETON AVE</td>\n",
       "      <td>13</td>\n",
       "    </tr>\n",
       "    <tr>\n",
       "      <td>2015</td>\n",
       "      <td>13500 S INDIANA AVE</td>\n",
       "      <td>9</td>\n",
       "    </tr>\n",
       "    <tr>\n",
       "      <td>2016</td>\n",
       "      <td>1000 N LAKE SHORE DR</td>\n",
       "      <td>6</td>\n",
       "    </tr>\n",
       "    <tr>\n",
       "      <td>2017</td>\n",
       "      <td>3200 W AUGUSTA BLVD</td>\n",
       "      <td>7</td>\n",
       "    </tr>\n",
       "    <tr>\n",
       "      <td>2018</td>\n",
       "      <td>3547 N ALBANY AVE</td>\n",
       "      <td>9</td>\n",
       "    </tr>\n",
       "  </tbody>\n",
       "</table>\n",
       "</div>"
      ],
      "text/plain": [
       "                            Total\n",
       "Year Street Address              \n",
       "2014 12500 S PRINCETON AVE     13\n",
       "2015 13500 S INDIANA AVE        9\n",
       "2016 1000 N LAKE SHORE DR       6\n",
       "2017 3200 W AUGUSTA BLVD        7\n",
       "2018 3547 N ALBANY AVE          9"
      ]
     },
     "execution_count": 15,
     "metadata": {},
     "output_type": "execute_result"
    }
   ],
   "source": [
    "most_request_append = most_request_2014.append([most_request_2015, most_request_2016, most_request_2017, most_request_2018])\n",
    "most_request_append"
   ]
  },
  {
   "cell_type": "code",
   "execution_count": null,
   "metadata": {},
   "outputs": [],
   "source": [
    "most_request_pt = most_request_append.pivot_table(index='Year', columns='Street Address', values='Total')\n",
    "most_request_pt"
   ]
  },
  {
   "cell_type": "code",
   "execution_count": 155,
   "metadata": {},
   "outputs": [
    {
     "data": {
      "image/png": "[encoded data removed]",
      "text/plain": [
       "<Figure size 1080x360 with 1 Axes>"
      ]
     },
     "metadata": {
      "needs_background": "light"
     },
     "output_type": "display_data"
    }
   ],
   "source": [
    "x_axis = np.arange(len(most_request_pt))\n",
    "plt.barh(x_axis, most_request_pt['1000 N LAKE SHORE DR'], color='blue', label=\"1000 N LAKE SHORE DR\", align=\"center\")\n",
    "plt.barh(x_axis, most_request_pt['12500 S PRINCETON AVE'], color='red', label=\"12500 S PRINCETON AVE\",align=\"center\")\n",
    "plt.barh(x_axis, most_request_pt['13500 S INDIANA AVE'], color='black', label='13500 S INDIANA AVE', alpha=0.75, align=\"center\")\n",
    "plt.barh(x_axis, most_request_pt['3200 W AUGUSTA BLVD'], color='black', label='3200 W AUGUSTA BLVD', alpha=0.5, align=\"center\")\n",
    "plt.barh(x_axis, most_request_pt['3547 N ALBANY AVE'], color='black', label='3547 N ALBANY AVE', alpha=0.25, align=\"center\")\n",
    "tick_locations = [value for value in x_axis]\n",
    "plt.gcf().set_size_inches(15, 5)\n",
    "plt.yticks(tick_locations, [2014, 2015, 2016, 2017, 2018])\n",
    "plt.legend(loc=\"best\")\n",
    "plt.title(\"Most Service Request Per Year\")\n",
    "plt.ylabel(\"By Year\")\n",
    "plt.xlabel(\"Number of Service Request\")\n",
    "plt.savefig(\"Most Service Request Per Year\")"
   ]
  },
  {
   "cell_type": "code",
   "execution_count": 9,
   "metadata": {},
   "outputs": [
    {
     "ename": "NameError",
     "evalue": "name 'most_request_append' is not defined",
     "output_type": "error",
     "traceback": [
      "\u001b[1;31m---------------------------------------------------------------------------\u001b[0m",
      "\u001b[1;31mNameError\u001b[0m                                 Traceback (most recent call last)",
      "\u001b[1;32m<ipython-input-9-2ec7a83222bd>\u001b[0m in \u001b[0;36m<module>\u001b[1;34m\u001b[0m\n\u001b[1;32m----> 1\u001b[1;33m \u001b[0mmost_request_append\u001b[0m\u001b[1;33m\u001b[0m\u001b[1;33m\u001b[0m\u001b[0m\n\u001b[0m",
      "\u001b[1;31mNameError\u001b[0m: name 'most_request_append' is not defined"
     ]
    }
   ],
   "source": [
    "most_request_append"
   ]
  },
  {
   "cell_type": "code",
   "execution_count": null,
   "metadata": {},
   "outputs": [],
   "source": []
  }
 ],
 "metadata": {
  "kernelspec": {
   "display_name": "Python 3",
   "language": "python",
   "name": "python3"
  },
  "language_info": {
   "codemirror_mode": {
    "name": "ipython",
    "version": 3
   },
   "file_extension": ".py",
   "mimetype": "text/x-python",
   "name": "python",
   "nbconvert_exporter": "python",
   "pygments_lexer": "ipython3",
   "version": "3.7.4"
  }
 },
 "nbformat": 4,
 "nbformat_minor": 4
}
