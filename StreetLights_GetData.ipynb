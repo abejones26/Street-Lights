{
 "cells": [
  {
   "cell_type": "code",
   "execution_count": null,
   "metadata": {},
   "outputs": [],
   "source": [
    "import pandas as pd\n",
    "#Importing the crime data\n",
    "\n",
    "#Data source below\n",
    "#https://data.cityofchicago.org/Public-Safety/Crime_2014_2018/tunj-hqmk\n",
    "\n",
    "crime=pd.read_csv('Crime_2014_2018.csv')\n",
    "crime.head()\n",
    "# length=len(crime.index)\n",
    "# length\n",
    "\n",
    "#Length should be 1325713\n",
    "\n",
    "#Importing the community areas data\n",
    "\n",
    "#Data source below\n",
    "#https://data.cityofchicago.org/Facilities-Geographic-Boundaries/Boundaries-Community-Areas-current-/cauq-8yn6\n",
    "\n",
    "comm=pd.read_csv('Street-Lights/CommAreas_20200108.csv')\n",
    "comm.head()\n",
    "length=len(comm.index)\n",
    "length\n",
    "\n",
    "#Importing the street light requests data\n",
    "\n",
    "#Data source below\n",
    "#https://data.cityofchicago.org/Service-Requests/ServiceRequests_2014_2018/wx4a-kywa\n",
    "\n",
    "street=pd.read_csv('Street-Lights/ServiceRequests_2014_2018.csv')\n",
    "street.head()\n",
    "length=len(street.index)\n",
    "length\n",
    "\n",
    "# street=pd.read_csv('project_1/Service_Requests_Street_Lights.csv',encoding='ISO-8859-1')\n",
    "# street.head()\n",
    "# length=len(street.index)\n",
    "# length\n",
    "# street=street.rename(columns={'ÈÀCreation Date':'Creation Date'})\n",
    "# street.head()"
   ]
  }
 ],
 "metadata": {
  "kernelspec": {
   "display_name": "Python 3",
   "language": "python",
   "name": "python3"
  },
  "language_info": {
   "codemirror_mode": {
    "name": "ipython",
    "version": 3
   },
   "file_extension": ".py",
   "mimetype": "text/x-python",
   "name": "python",
   "nbconvert_exporter": "python",
   "pygments_lexer": "ipython3",
   "version": "3.7.3"
  }
 },
 "nbformat": 4,
 "nbformat_minor": 2
}
